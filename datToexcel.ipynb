{
 "metadata": {
  "language_info": {
   "codemirror_mode": {
    "name": "ipython",
    "version": 3
   },
   "file_extension": ".py",
   "mimetype": "text/x-python",
   "name": "python",
   "nbconvert_exporter": "python",
   "pygments_lexer": "ipython3",
   "version": "3.7.7"
  },
  "orig_nbformat": 2,
  "kernelspec": {
   "name": "python3",
   "display_name": "Python 3",
   "language": "python"
  }
 },
 "nbformat": 4,
 "nbformat_minor": 2,
 "cells": [
  {
   "cell_type": "code",
   "execution_count": 1,
   "metadata": {},
   "outputs": [],
   "source": [
    "import os,time,xlwt\n",
    "import pandas as pd "
   ]
  },
  {
   "cell_type": "code",
   "execution_count": 29,
   "metadata": {
    "tags": []
   },
   "outputs": [
    {
     "output_type": "stream",
     "name": "stdout",
     "text": [
      "++++++++++++  data +++++++++++++++\n['/Users/emily/Desktop/Research/oversampling_python/data/bupa.txt']\n/Users/emily/Desktop/Research/oversampling_python/data/bupa.txt\n+++++++++++++++++++++++++++++\n/Users/emily/Desktop/Research/oversampling_python/data/bupa.xlsx\n345\n"
     ]
    }
   ],
   "source": [
    "def single(filepath):\n",
    "    '''参数：txt文件路径，功能将其转换成excel文件'''\n",
    "    print(filepath)\n",
    "    data = []\n",
    "    newname= filepath.replace(\".txt\",\".xlsx\")\n",
    "    print(\"+++++++++++++++++++++++++++++\")\n",
    "    print(newname)\n",
    "    fp = open(filepath,\"r\",encoding=\"utf-8\") \n",
    "    for line in fp: #设置文件对象并读取每一行文件\n",
    "        # print(type(line)) # str\n",
    "        line = line.split('|@|')\n",
    "        data.append(line)\n",
    "    \n",
    "    # 抓出屬性\n",
    "    attr = []\n",
    "    for i in data:\n",
    "        if(\"attribute\" in i[0]):\n",
    "            i = i[0].split(\" \");\n",
    "            attr.append(i[1])\n",
    "    \n",
    "    #抓出資料\n",
    "    realdata = []\n",
    "    datastart = False;\n",
    "    for i in data:\n",
    "        if(datastart is True ):\n",
    "            i = i[0].split(\",\");\n",
    "            \"\"\"\n",
    "            for j in i:\n",
    "                if(\"\\n\" in j):\n",
    "                    print(j)\n",
    "                    realdata[]\n",
    "            \"\"\"\n",
    "            realdata.append(i)   \n",
    "        if(\"@data\" in i[0]):\n",
    "            datastart = True;\n",
    "    print(len(realdata))\n",
    "    \n",
    "    dd = pd.DataFrame(data = realdata,columns = attr, index=list(range(1,len(realdata)+1)))\n",
    "    \n",
    "    dd.to_excel(newname)\n",
    "    row_num = len(data)\n",
    "    col_num = len(data[0]) #如果是空文件此处报错\n",
    "    \n",
    "    \"\"\"\n",
    "    # 步骤2：创建工作簿对象workbook\n",
    "    workbook = xlwt.Workbook(encoding='utf-8')\n",
    "    # 步骤3：创建单页对象sheet\n",
    "    sheet = workbook.add_sheet('测试单页1')\n",
    "    # 步骤5：写入内容数据\n",
    "    # 步骤5-1：外层for循环控制行数\n",
    "    for rowIndex in range(0, row_num):\n",
    "    # 步骤5-2：内层for循环控制列数\n",
    "        for colIndex in range(col_num):\n",
    "        # 步骤5-3：写入内容数据\n",
    "            sheet.write(rowIndex, colIndex, data[rowIndex][colIndex])\n",
    "    # 步骤6：保存工作簿\n",
    "    workbook.save(newname)\n",
    "    \"\"\"\n",
    "def dat_txt():\n",
    "    '''当前文件夹，文件后缀dat批量更改为txt'''\n",
    "    files = os.listdir('.') # 列出当前目录下所有的文件\n",
    "    # print('files',files)\n",
    "    for filepath in files:\n",
    "        portion = os.path.splitext(filepath)\n",
    "        if portion[1] == \".dat\":  # 如果后缀是.dat\n",
    "        # 重新组合文件名和后缀名\n",
    "            newname = portion[0] + \".txt\"   \n",
    "            os.rename(filepath,newname)\n",
    "\n",
    "def get_txtpath():\n",
    "    '''获取每个txt文件的路径'''\n",
    "    files = os.listdir('.')\n",
    "    # print('files',files)\n",
    "    data=[]\n",
    "    for filename in files:\n",
    "        portion = os.path.splitext(filename)\n",
    "        # 如果后缀是.dat\n",
    "        if portion[1] == \".txt\":\n",
    "            filepath = os.getcwd()+ os.sep + filename\n",
    "            data.append(filepath) \n",
    "\n",
    "    print(\"++++++++++++  data +++++++++++++++\")\n",
    "    print(data)\n",
    "    return data \n",
    "        \n",
    "dat_txt() #dat后缀批量更改为txt\n",
    "data = get_txtpath()# 获取每个txt文件的路径\n",
    "\n",
    "for i in data:\n",
    "    fileSize = os.path.getsize(i)\n",
    "    print\n",
    "    if fileSize != 0:\n",
    "        filepath = i\n",
    "        single(filepath)"
   ]
  },
  {
   "cell_type": "code",
   "execution_count": null,
   "metadata": {},
   "outputs": [],
   "source": []
  }
 ]
}