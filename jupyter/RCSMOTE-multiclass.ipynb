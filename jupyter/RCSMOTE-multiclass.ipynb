{
 "metadata": {
  "language_info": {
   "codemirror_mode": {
    "name": "ipython",
    "version": 3
   },
   "file_extension": ".py",
   "mimetype": "text/x-python",
   "name": "python",
   "nbconvert_exporter": "python",
   "pygments_lexer": "ipython3",
   "version": "3.7.7"
  },
  "orig_nbformat": 2,
  "kernelspec": {
   "name": "python3",
   "display_name": "Python 3",
   "language": "python"
  }
 },
 "nbformat": 4,
 "nbformat_minor": 2,
 "cells": [
  {
   "cell_type": "code",
   "execution_count": null,
   "metadata": {},
   "outputs": [],
   "source": [
    "from sklearn.neighbors import KNeighborsClassifier\n",
    "from sklearn.cluster import MiniBatchKMeans\n",
    "import random\n",
    "from sklearn.neighbors import NearestNeighbors\n",
    "import numpy as np\n",
    "import collections\n",
    "from collections import Counter\n",
    "from sklearn.neighbors import KNeighborsClassifier\n",
    "import os;\n",
    "import pandas as pd\n",
    "from sklearn.tree import DecisionTreeClassifier\n",
    "from sklearn.model_selection import cross_val_score\n",
    "from sklearn.model_selection import RepeatedStratifiedKFold\n",
    "from numpy import mean\n",
    "from matplotlib import pyplot"
   ]
  },
  {
   "cell_type": "code",
   "execution_count": 192,
   "metadata": {},
   "outputs": [
    {
     "output_type": "stream",
     "name": "stdout",
     "text": [
      "/Users/emily/Desktop/Research/oversampling_python/data\n"
     ]
    }
   ],
   "source": [
    "# data.shape[1] # 行數    data.shape[0] 列數\n",
    "os.chdir(\"/Users/emily/Desktop/Research/oversampling_python/data\");\n",
    "print(os.getcwd());\n",
    "\n",
    "data = pd.read_excel(\"glass.xlsx\")\n",
    "#data.Class= data.Class.str.replace(\"\\n\", \"\").str.strip() # for pima.xlsx\n",
    "data = data.iloc[:,1:]\n",
    "data.shape[1]\n",
    "l = data.shape[1]-1\n",
    "\n",
    "output = np.array(data.iloc[:,l]);\n",
    "output = LabelEncoder().fit_transform(output)\n",
    "finaldata = np.array(data.iloc[:,:l])\n"
   ]
  },
  {
   "cell_type": "code",
   "execution_count": 193,
   "metadata": {},
   "outputs": [
    {
     "output_type": "stream",
     "name": "stdout",
     "text": [
      "class 0 count  70  percentage  32.710 %\nclass 1 count  76  percentage  35.514 %\nclass 2 count  17  percentage  7.944 %\nclass 3 count  13  percentage  6.075 %\nclass 4 count  9  percentage  4.206 %\nclass 5 count  29  percentage  13.551 %\n"
     ]
    },
    {
     "output_type": "display_data",
     "data": {
      "text/plain": "<Figure size 432x288 with 1 Axes>",
      "image/svg+xml": "<?xml version=\"1.0\" encoding=\"utf-8\" standalone=\"no\"?>\n<!DOCTYPE svg PUBLIC \"-//W3C//DTD SVG 1.1//EN\"\n  \"http://www.w3.org/Graphics/SVG/1.1/DTD/svg11.dtd\">\n<!-- Created with matplotlib (https://matplotlib.org/) -->\n<svg height=\"248.518125pt\" version=\"1.1\" viewBox=\"0 0 368.925 248.518125\" width=\"368.925pt\" xmlns=\"http://www.w3.org/2000/svg\" xmlns:xlink=\"http://www.w3.org/1999/xlink\">\n <metadata>\n  <rdf:RDF xmlns:cc=\"http://creativecommons.org/ns#\" xmlns:dc=\"http://purl.org/dc/elements/1.1/\" xmlns:rdf=\"http://www.w3.org/1999/02/22-rdf-syntax-ns#\">\n   <cc:Work>\n    <dc:type rdf:resource=\"http://purl.org/dc/dcmitype/StillImage\"/>\n    <dc:date>2021-02-23T10:42:19.239034</dc:date>\n    <dc:format>image/svg+xml</dc:format>\n    <dc:creator>\n     <cc:Agent>\n      <dc:title>Matplotlib v3.3.4, https://matplotlib.org/</dc:title>\n     </cc:Agent>\n    </dc:creator>\n   </cc:Work>\n  </rdf:RDF>\n </metadata>\n <defs>\n  <style type=\"text/css\">*{stroke-linecap:butt;stroke-linejoin:round;}</style>\n </defs>\n <g id=\"figure_1\">\n  <g id=\"patch_1\">\n   <path d=\"M -0 248.518125 \nL 368.925 248.518125 \nL 368.925 0 \nL -0 0 \nz\n\" style=\"fill:none;\"/>\n  </g>\n  <g id=\"axes_1\">\n   <g id=\"patch_2\">\n    <path d=\"M 26.925 224.64 \nL 361.725 224.64 \nL 361.725 7.2 \nL 26.925 7.2 \nz\n\" style=\"fill:#ffffff;\"/>\n   </g>\n   <g id=\"patch_3\">\n    <path clip-path=\"url(#p2ff0f2004a)\" d=\"M 42.143182 224.64 \nL 84.124373 224.64 \nL 84.124373 33.903158 \nL 42.143182 33.903158 \nz\n\" style=\"fill:#1f77b4;\"/>\n   </g>\n   <g id=\"patch_4\">\n    <path clip-path=\"url(#p2ff0f2004a)\" d=\"M 94.619671 224.64 \nL 136.600862 224.64 \nL 136.600862 17.554286 \nL 94.619671 17.554286 \nz\n\" style=\"fill:#1f77b4;\"/>\n   </g>\n   <g id=\"patch_5\">\n    <path clip-path=\"url(#p2ff0f2004a)\" d=\"M 147.09616 224.64 \nL 189.077351 224.64 \nL 189.077351 178.318195 \nL 147.09616 178.318195 \nz\n\" style=\"fill:#1f77b4;\"/>\n   </g>\n   <g id=\"patch_6\">\n    <path clip-path=\"url(#p2ff0f2004a)\" d=\"M 199.572649 224.64 \nL 241.55384 224.64 \nL 241.55384 189.217444 \nL 199.572649 189.217444 \nz\n\" style=\"fill:#1f77b4;\"/>\n   </g>\n   <g id=\"patch_7\">\n    <path clip-path=\"url(#p2ff0f2004a)\" d=\"M 252.049138 224.64 \nL 294.030329 224.64 \nL 294.030329 200.116692 \nL 252.049138 200.116692 \nz\n\" style=\"fill:#1f77b4;\"/>\n   </g>\n   <g id=\"patch_8\">\n    <path clip-path=\"url(#p2ff0f2004a)\" d=\"M 304.525627 224.64 \nL 346.506818 224.64 \nL 346.506818 145.620451 \nL 304.525627 145.620451 \nz\n\" style=\"fill:#1f77b4;\"/>\n   </g>\n   <g id=\"matplotlib.axis_1\">\n    <g id=\"xtick_1\">\n     <g id=\"line2d_1\">\n      <defs>\n       <path d=\"M 0 0 \nL 0 3.5 \n\" id=\"mcd89d28ec5\" style=\"stroke:#000000;stroke-width:0.8;\"/>\n      </defs>\n      <g>\n       <use style=\"stroke:#000000;stroke-width:0.8;\" x=\"63.133777\" xlink:href=\"#mcd89d28ec5\" y=\"224.64\"/>\n      </g>\n     </g>\n     <g id=\"text_1\">\n      <!-- 0 -->\n      <g transform=\"translate(59.952527 239.238437)scale(0.1 -0.1)\">\n       <defs>\n        <path d=\"M 31.78125 66.40625 \nQ 24.171875 66.40625 20.328125 58.90625 \nQ 16.5 51.421875 16.5 36.375 \nQ 16.5 21.390625 20.328125 13.890625 \nQ 24.171875 6.390625 31.78125 6.390625 \nQ 39.453125 6.390625 43.28125 13.890625 \nQ 47.125 21.390625 47.125 36.375 \nQ 47.125 51.421875 43.28125 58.90625 \nQ 39.453125 66.40625 31.78125 66.40625 \nz\nM 31.78125 74.21875 \nQ 44.046875 74.21875 50.515625 64.515625 \nQ 56.984375 54.828125 56.984375 36.375 \nQ 56.984375 17.96875 50.515625 8.265625 \nQ 44.046875 -1.421875 31.78125 -1.421875 \nQ 19.53125 -1.421875 13.0625 8.265625 \nQ 6.59375 17.96875 6.59375 36.375 \nQ 6.59375 54.828125 13.0625 64.515625 \nQ 19.53125 74.21875 31.78125 74.21875 \nz\n\" id=\"DejaVuSans-48\"/>\n       </defs>\n       <use xlink:href=\"#DejaVuSans-48\"/>\n      </g>\n     </g>\n    </g>\n    <g id=\"xtick_2\">\n     <g id=\"line2d_2\">\n      <g>\n       <use style=\"stroke:#000000;stroke-width:0.8;\" x=\"115.610266\" xlink:href=\"#mcd89d28ec5\" y=\"224.64\"/>\n      </g>\n     </g>\n     <g id=\"text_2\">\n      <!-- 1 -->\n      <g transform=\"translate(112.429016 239.238437)scale(0.1 -0.1)\">\n       <defs>\n        <path d=\"M 12.40625 8.296875 \nL 28.515625 8.296875 \nL 28.515625 63.921875 \nL 10.984375 60.40625 \nL 10.984375 69.390625 \nL 28.421875 72.90625 \nL 38.28125 72.90625 \nL 38.28125 8.296875 \nL 54.390625 8.296875 \nL 54.390625 0 \nL 12.40625 0 \nz\n\" id=\"DejaVuSans-49\"/>\n       </defs>\n       <use xlink:href=\"#DejaVuSans-49\"/>\n      </g>\n     </g>\n    </g>\n    <g id=\"xtick_3\">\n     <g id=\"line2d_3\">\n      <g>\n       <use style=\"stroke:#000000;stroke-width:0.8;\" x=\"168.086755\" xlink:href=\"#mcd89d28ec5\" y=\"224.64\"/>\n      </g>\n     </g>\n     <g id=\"text_3\">\n      <!-- 2 -->\n      <g transform=\"translate(164.905505 239.238437)scale(0.1 -0.1)\">\n       <defs>\n        <path d=\"M 19.1875 8.296875 \nL 53.609375 8.296875 \nL 53.609375 0 \nL 7.328125 0 \nL 7.328125 8.296875 \nQ 12.9375 14.109375 22.625 23.890625 \nQ 32.328125 33.6875 34.8125 36.53125 \nQ 39.546875 41.84375 41.421875 45.53125 \nQ 43.3125 49.21875 43.3125 52.78125 \nQ 43.3125 58.59375 39.234375 62.25 \nQ 35.15625 65.921875 28.609375 65.921875 \nQ 23.96875 65.921875 18.8125 64.3125 \nQ 13.671875 62.703125 7.8125 59.421875 \nL 7.8125 69.390625 \nQ 13.765625 71.78125 18.9375 73 \nQ 24.125 74.21875 28.421875 74.21875 \nQ 39.75 74.21875 46.484375 68.546875 \nQ 53.21875 62.890625 53.21875 53.421875 \nQ 53.21875 48.921875 51.53125 44.890625 \nQ 49.859375 40.875 45.40625 35.40625 \nQ 44.1875 33.984375 37.640625 27.21875 \nQ 31.109375 20.453125 19.1875 8.296875 \nz\n\" id=\"DejaVuSans-50\"/>\n       </defs>\n       <use xlink:href=\"#DejaVuSans-50\"/>\n      </g>\n     </g>\n    </g>\n    <g id=\"xtick_4\">\n     <g id=\"line2d_4\">\n      <g>\n       <use style=\"stroke:#000000;stroke-width:0.8;\" x=\"220.563245\" xlink:href=\"#mcd89d28ec5\" y=\"224.64\"/>\n      </g>\n     </g>\n     <g id=\"text_4\">\n      <!-- 3 -->\n      <g transform=\"translate(217.381995 239.238437)scale(0.1 -0.1)\">\n       <defs>\n        <path d=\"M 40.578125 39.3125 \nQ 47.65625 37.796875 51.625 33 \nQ 55.609375 28.21875 55.609375 21.1875 \nQ 55.609375 10.40625 48.1875 4.484375 \nQ 40.765625 -1.421875 27.09375 -1.421875 \nQ 22.515625 -1.421875 17.65625 -0.515625 \nQ 12.796875 0.390625 7.625 2.203125 \nL 7.625 11.71875 \nQ 11.71875 9.328125 16.59375 8.109375 \nQ 21.484375 6.890625 26.8125 6.890625 \nQ 36.078125 6.890625 40.9375 10.546875 \nQ 45.796875 14.203125 45.796875 21.1875 \nQ 45.796875 27.640625 41.28125 31.265625 \nQ 36.765625 34.90625 28.71875 34.90625 \nL 20.21875 34.90625 \nL 20.21875 43.015625 \nL 29.109375 43.015625 \nQ 36.375 43.015625 40.234375 45.921875 \nQ 44.09375 48.828125 44.09375 54.296875 \nQ 44.09375 59.90625 40.109375 62.90625 \nQ 36.140625 65.921875 28.71875 65.921875 \nQ 24.65625 65.921875 20.015625 65.03125 \nQ 15.375 64.15625 9.8125 62.3125 \nL 9.8125 71.09375 \nQ 15.4375 72.65625 20.34375 73.4375 \nQ 25.25 74.21875 29.59375 74.21875 \nQ 40.828125 74.21875 47.359375 69.109375 \nQ 53.90625 64.015625 53.90625 55.328125 \nQ 53.90625 49.265625 50.4375 45.09375 \nQ 46.96875 40.921875 40.578125 39.3125 \nz\n\" id=\"DejaVuSans-51\"/>\n       </defs>\n       <use xlink:href=\"#DejaVuSans-51\"/>\n      </g>\n     </g>\n    </g>\n    <g id=\"xtick_5\">\n     <g id=\"line2d_5\">\n      <g>\n       <use style=\"stroke:#000000;stroke-width:0.8;\" x=\"273.039734\" xlink:href=\"#mcd89d28ec5\" y=\"224.64\"/>\n      </g>\n     </g>\n     <g id=\"text_5\">\n      <!-- 4 -->\n      <g transform=\"translate(269.858484 239.238437)scale(0.1 -0.1)\">\n       <defs>\n        <path d=\"M 37.796875 64.3125 \nL 12.890625 25.390625 \nL 37.796875 25.390625 \nz\nM 35.203125 72.90625 \nL 47.609375 72.90625 \nL 47.609375 25.390625 \nL 58.015625 25.390625 \nL 58.015625 17.1875 \nL 47.609375 17.1875 \nL 47.609375 0 \nL 37.796875 0 \nL 37.796875 17.1875 \nL 4.890625 17.1875 \nL 4.890625 26.703125 \nz\n\" id=\"DejaVuSans-52\"/>\n       </defs>\n       <use xlink:href=\"#DejaVuSans-52\"/>\n      </g>\n     </g>\n    </g>\n    <g id=\"xtick_6\">\n     <g id=\"line2d_6\">\n      <g>\n       <use style=\"stroke:#000000;stroke-width:0.8;\" x=\"325.516223\" xlink:href=\"#mcd89d28ec5\" y=\"224.64\"/>\n      </g>\n     </g>\n     <g id=\"text_6\">\n      <!-- 5 -->\n      <g transform=\"translate(322.334973 239.238437)scale(0.1 -0.1)\">\n       <defs>\n        <path d=\"M 10.796875 72.90625 \nL 49.515625 72.90625 \nL 49.515625 64.59375 \nL 19.828125 64.59375 \nL 19.828125 46.734375 \nQ 21.96875 47.46875 24.109375 47.828125 \nQ 26.265625 48.1875 28.421875 48.1875 \nQ 40.625 48.1875 47.75 41.5 \nQ 54.890625 34.8125 54.890625 23.390625 \nQ 54.890625 11.625 47.5625 5.09375 \nQ 40.234375 -1.421875 26.90625 -1.421875 \nQ 22.3125 -1.421875 17.546875 -0.640625 \nQ 12.796875 0.140625 7.71875 1.703125 \nL 7.71875 11.625 \nQ 12.109375 9.234375 16.796875 8.0625 \nQ 21.484375 6.890625 26.703125 6.890625 \nQ 35.15625 6.890625 40.078125 11.328125 \nQ 45.015625 15.765625 45.015625 23.390625 \nQ 45.015625 31 40.078125 35.4375 \nQ 35.15625 39.890625 26.703125 39.890625 \nQ 22.75 39.890625 18.8125 39.015625 \nQ 14.890625 38.140625 10.796875 36.28125 \nz\n\" id=\"DejaVuSans-53\"/>\n       </defs>\n       <use xlink:href=\"#DejaVuSans-53\"/>\n      </g>\n     </g>\n    </g>\n   </g>\n   <g id=\"matplotlib.axis_2\">\n    <g id=\"ytick_1\">\n     <g id=\"line2d_7\">\n      <defs>\n       <path d=\"M 0 0 \nL -3.5 0 \n\" id=\"md2389b6bf4\" style=\"stroke:#000000;stroke-width:0.8;\"/>\n      </defs>\n      <g>\n       <use style=\"stroke:#000000;stroke-width:0.8;\" x=\"26.925\" xlink:href=\"#md2389b6bf4\" y=\"224.64\"/>\n      </g>\n     </g>\n     <g id=\"text_7\">\n      <!-- 0 -->\n      <g transform=\"translate(13.5625 228.439219)scale(0.1 -0.1)\">\n       <use xlink:href=\"#DejaVuSans-48\"/>\n      </g>\n     </g>\n    </g>\n    <g id=\"ytick_2\">\n     <g id=\"line2d_8\">\n      <g>\n       <use style=\"stroke:#000000;stroke-width:0.8;\" x=\"26.925\" xlink:href=\"#md2389b6bf4\" y=\"197.39188\"/>\n      </g>\n     </g>\n     <g id=\"text_8\">\n      <!-- 10 -->\n      <g transform=\"translate(7.2 201.191098)scale(0.1 -0.1)\">\n       <use xlink:href=\"#DejaVuSans-49\"/>\n       <use x=\"63.623047\" xlink:href=\"#DejaVuSans-48\"/>\n      </g>\n     </g>\n    </g>\n    <g id=\"ytick_3\">\n     <g id=\"line2d_9\">\n      <g>\n       <use style=\"stroke:#000000;stroke-width:0.8;\" x=\"26.925\" xlink:href=\"#md2389b6bf4\" y=\"170.143759\"/>\n      </g>\n     </g>\n     <g id=\"text_9\">\n      <!-- 20 -->\n      <g transform=\"translate(7.2 173.942978)scale(0.1 -0.1)\">\n       <use xlink:href=\"#DejaVuSans-50\"/>\n       <use x=\"63.623047\" xlink:href=\"#DejaVuSans-48\"/>\n      </g>\n     </g>\n    </g>\n    <g id=\"ytick_4\">\n     <g id=\"line2d_10\">\n      <g>\n       <use style=\"stroke:#000000;stroke-width:0.8;\" x=\"26.925\" xlink:href=\"#md2389b6bf4\" y=\"142.895639\"/>\n      </g>\n     </g>\n     <g id=\"text_10\">\n      <!-- 30 -->\n      <g transform=\"translate(7.2 146.694858)scale(0.1 -0.1)\">\n       <use xlink:href=\"#DejaVuSans-51\"/>\n       <use x=\"63.623047\" xlink:href=\"#DejaVuSans-48\"/>\n      </g>\n     </g>\n    </g>\n    <g id=\"ytick_5\">\n     <g id=\"line2d_11\">\n      <g>\n       <use style=\"stroke:#000000;stroke-width:0.8;\" x=\"26.925\" xlink:href=\"#md2389b6bf4\" y=\"115.647519\"/>\n      </g>\n     </g>\n     <g id=\"text_11\">\n      <!-- 40 -->\n      <g transform=\"translate(7.2 119.446738)scale(0.1 -0.1)\">\n       <use xlink:href=\"#DejaVuSans-52\"/>\n       <use x=\"63.623047\" xlink:href=\"#DejaVuSans-48\"/>\n      </g>\n     </g>\n    </g>\n    <g id=\"ytick_6\">\n     <g id=\"line2d_12\">\n      <g>\n       <use style=\"stroke:#000000;stroke-width:0.8;\" x=\"26.925\" xlink:href=\"#md2389b6bf4\" y=\"88.399398\"/>\n      </g>\n     </g>\n     <g id=\"text_12\">\n      <!-- 50 -->\n      <g transform=\"translate(7.2 92.198617)scale(0.1 -0.1)\">\n       <use xlink:href=\"#DejaVuSans-53\"/>\n       <use x=\"63.623047\" xlink:href=\"#DejaVuSans-48\"/>\n      </g>\n     </g>\n    </g>\n    <g id=\"ytick_7\">\n     <g id=\"line2d_13\">\n      <g>\n       <use style=\"stroke:#000000;stroke-width:0.8;\" x=\"26.925\" xlink:href=\"#md2389b6bf4\" y=\"61.151278\"/>\n      </g>\n     </g>\n     <g id=\"text_13\">\n      <!-- 60 -->\n      <g transform=\"translate(7.2 64.950497)scale(0.1 -0.1)\">\n       <defs>\n        <path d=\"M 33.015625 40.375 \nQ 26.375 40.375 22.484375 35.828125 \nQ 18.609375 31.296875 18.609375 23.390625 \nQ 18.609375 15.53125 22.484375 10.953125 \nQ 26.375 6.390625 33.015625 6.390625 \nQ 39.65625 6.390625 43.53125 10.953125 \nQ 47.40625 15.53125 47.40625 23.390625 \nQ 47.40625 31.296875 43.53125 35.828125 \nQ 39.65625 40.375 33.015625 40.375 \nz\nM 52.59375 71.296875 \nL 52.59375 62.3125 \nQ 48.875 64.0625 45.09375 64.984375 \nQ 41.3125 65.921875 37.59375 65.921875 \nQ 27.828125 65.921875 22.671875 59.328125 \nQ 17.53125 52.734375 16.796875 39.40625 \nQ 19.671875 43.65625 24.015625 45.921875 \nQ 28.375 48.1875 33.59375 48.1875 \nQ 44.578125 48.1875 50.953125 41.515625 \nQ 57.328125 34.859375 57.328125 23.390625 \nQ 57.328125 12.15625 50.6875 5.359375 \nQ 44.046875 -1.421875 33.015625 -1.421875 \nQ 20.359375 -1.421875 13.671875 8.265625 \nQ 6.984375 17.96875 6.984375 36.375 \nQ 6.984375 53.65625 15.1875 63.9375 \nQ 23.390625 74.21875 37.203125 74.21875 \nQ 40.921875 74.21875 44.703125 73.484375 \nQ 48.484375 72.75 52.59375 71.296875 \nz\n\" id=\"DejaVuSans-54\"/>\n       </defs>\n       <use xlink:href=\"#DejaVuSans-54\"/>\n       <use x=\"63.623047\" xlink:href=\"#DejaVuSans-48\"/>\n      </g>\n     </g>\n    </g>\n    <g id=\"ytick_8\">\n     <g id=\"line2d_14\">\n      <g>\n       <use style=\"stroke:#000000;stroke-width:0.8;\" x=\"26.925\" xlink:href=\"#md2389b6bf4\" y=\"33.903158\"/>\n      </g>\n     </g>\n     <g id=\"text_14\">\n      <!-- 70 -->\n      <g transform=\"translate(7.2 37.702377)scale(0.1 -0.1)\">\n       <defs>\n        <path d=\"M 8.203125 72.90625 \nL 55.078125 72.90625 \nL 55.078125 68.703125 \nL 28.609375 0 \nL 18.3125 0 \nL 43.21875 64.59375 \nL 8.203125 64.59375 \nz\n\" id=\"DejaVuSans-55\"/>\n       </defs>\n       <use xlink:href=\"#DejaVuSans-55\"/>\n       <use x=\"63.623047\" xlink:href=\"#DejaVuSans-48\"/>\n      </g>\n     </g>\n    </g>\n   </g>\n   <g id=\"patch_9\">\n    <path d=\"M 26.925 224.64 \nL 26.925 7.2 \n\" style=\"fill:none;stroke:#000000;stroke-linecap:square;stroke-linejoin:miter;stroke-width:0.8;\"/>\n   </g>\n   <g id=\"patch_10\">\n    <path d=\"M 361.725 224.64 \nL 361.725 7.2 \n\" style=\"fill:none;stroke:#000000;stroke-linecap:square;stroke-linejoin:miter;stroke-width:0.8;\"/>\n   </g>\n   <g id=\"patch_11\">\n    <path d=\"M 26.925 224.64 \nL 361.725 224.64 \n\" style=\"fill:none;stroke:#000000;stroke-linecap:square;stroke-linejoin:miter;stroke-width:0.8;\"/>\n   </g>\n   <g id=\"patch_12\">\n    <path d=\"M 26.925 7.2 \nL 361.725 7.2 \n\" style=\"fill:none;stroke:#000000;stroke-linecap:square;stroke-linejoin:miter;stroke-width:0.8;\"/>\n   </g>\n  </g>\n </g>\n <defs>\n  <clipPath id=\"p2ff0f2004a\">\n   <rect height=\"217.44\" width=\"334.8\" x=\"26.925\" y=\"7.2\"/>\n  </clipPath>\n </defs>\n</svg>\n",
      "image/png": "[encoded data removed]"
     },
     "metadata": {
      "needs_background": "light"
     }
    }
   ],
   "source": [
    "# 分佈\n",
    "counter = Counter(output)\n",
    "for k,v in counter.items():\n",
    "\tper = v / len(output) * 100\n",
    "\tprint(\"class\",k,\"count \",v,\" percentage \",'%.3f' %per,\"%\")\n",
    "\t#print('Class=%s, n=%d (%.3f%%)' % (k, v, per))\n",
    "# plot the distribution\n",
    "pyplot.bar(counter.keys(), counter.values())\n",
    "pyplot.show()"
   ]
  },
  {
   "cell_type": "code",
   "execution_count": 178,
   "metadata": {},
   "outputs": [
    {
     "output_type": "execute_result",
     "data": {
      "text/plain": [
       "214"
      ]
     },
     "metadata": {},
     "execution_count": 178
    }
   ],
   "source": [
    "# 找出 knn\n",
    "def knn(n_nu,sample):\n",
    "     # n_nu 自己設定多少鄰近個點\n",
    "     # input sample 沒有包含 class label\n",
    "        nnarray = []\n",
    "        neighbors=NearestNeighbors(n_neighbors=n_nu+1).fit(sample)\n",
    "        for i in range(len(sample)):\n",
    "            temp = neighbors.kneighbors(sample[i].reshape(1,-1),return_distance=False)[0]\n",
    "            temp = np.delete(temp,0)\n",
    "            # 有 array 存放 各個點的鄰近點 \n",
    "            nnarray.append(temp)\n",
    "        return nnarray # 回傳相近的點 分別是在第幾個 \n",
    "karray = knn(3,finaldata)\n",
    "len(karray)"
   ]
  },
  {
   "cell_type": "code",
   "execution_count": 179,
   "metadata": {},
   "outputs": [
    {
     "output_type": "execute_result",
     "data": {
      "text/plain": [
       "1"
      ]
     },
     "metadata": {},
     "execution_count": 179
    }
   ],
   "source": [
    "# 找出大類\n",
    "def find_maj(sample_class):\n",
    "    counter = Counter(sample_class);\n",
    "    maj = list(dict(counter.most_common(1)).keys())[0]\n",
    "    #maj = \"\".join(maj)\n",
    "    return maj\n",
    "\n",
    "find_maj(output)"
   ]
  },
  {
   "cell_type": "code",
   "execution_count": 180,
   "metadata": {},
   "outputs": [
    {
     "output_type": "stream",
     "name": "stdout",
     "text": [
      "noisy 9 \nborder 16 \nsafe 119 \nall 144\n"
     ]
    }
   ],
   "source": [
    "# 判斷該點為什麼類型的點 \n",
    "# 此 index 是 0 開始 所以對照到 excel 的要\n",
    "# inminority 是否是要求在小類中的 如果是則放 true\n",
    "def check_point_type(n_nu,sample,sample_class,data,inminority):\n",
    "    # 使用 find_maj(find_maj(sample_class)\n",
    "    # 使用 knn 找到鄰近的幾個點 \n",
    "    point_type = [] # 放個點是屬於什麼類型的 border safe noisy\n",
    "    n = 0\n",
    "    b = 0\n",
    "    s = 0\n",
    "    maj = find_maj(sample_class) # 大類\n",
    "    #maj =2\n",
    "    point = knn(n_nu,sample) # 回傳所有點鄰近 n_nu 個點\n",
    "    #maj = \"\".join(maj) # maj 原本是 list 轉成 str\n",
    "    for index,i in enumerate(point):\n",
    "        maj_nu =0;\n",
    "        if(data.iloc[index,data.shape[1]-1] == maj and inminority == True): # 如果該點本身是大類則不計算\n",
    "            continue; # 如果使用此 則會跟論文的 data 一樣\n",
    "        for j in point[index]: # 每個點鄰近個點的 loop 例如第一個點是 [1,2,3,4,5] 則 loop 裡面的數值\n",
    "            if(data.iloc[j,data.shape[1]-1] == maj ): \n",
    "                maj_nu = maj_nu + 1 # 計算鄰近點為大類的有多少個\n",
    "        if(maj_nu == n_nu ):\n",
    "            point_type.append(\"noisy\");\n",
    "            n = n+1\n",
    "        elif(n_nu/2 < maj_nu and maj_nu < n_nu ):\n",
    "            point_type.append(\"border\");\n",
    "            b = b+1\n",
    "        else:\n",
    "            point_type.append(\"safe\");\n",
    "            s = s+1\n",
    "    print(\"noisy\",n,\"\\nborder\",b,\"\\nsafe\",s,\"\\nall\",n+b+s)\n",
    "    return point_type;\n",
    "point_type = check_point_type(3,finaldata,output,data,True) # 論文使用 knn 為 3\n"
   ]
  },
  {
   "cell_type": "code",
   "execution_count": 211,
   "metadata": {},
   "outputs": [
    {
     "output_type": "execute_result",
     "data": {
      "text/plain": [
       "214"
      ]
     },
     "metadata": {},
     "execution_count": 211
    }
   ],
   "source": [
    "len(output)"
   ]
  },
  {
   "cell_type": "code",
   "execution_count": 216,
   "metadata": {},
   "outputs": [
    {
     "output_type": "stream",
     "name": "stdout",
     "text": [
      "noisy 44 \nborder 29 \nsafe 141 \nall 214\n"
     ]
    },
    {
     "output_type": "execute_result",
     "data": {
      "text/plain": [
       "array(['bs',\n",
       "       list([array([ 1.51588824, 12.87795   ,  3.43036   ,  1.40066   , 73.282     ,\n",
       "               0.68931   ,  8.04468   ,  0.        ,  0.1224    ]), array([ 1.5176423, 12.9777   ,  3.53812  ,  1.21127  , 73.002    ,\n",
       "               0.65205  ,  8.52888  ,  0.       ,  0.       ]), array([ 1.52212996, 14.20795   ,  3.82099   ,  0.46976   , 71.77      ,\n",
       "               0.11178   ,  9.5726    ,  0.        ,  0.        ]), array([1.51755118e+00, 1.33900000e+01, 3.65935000e+00, 1.18880000e+00,\n",
       "              7.27892000e+01, 5.71320000e-01, 8.27064000e+00, 0.00000000e+00,\n",
       "              5.61000000e-02]), array([ 1.51755118, 13.1506    ,  3.60996   ,  1.05077   , 73.2372    ,\n",
       "               0.57132   ,  8.23836   ,  0.        ,  0.        ]), array([ 1.51793844, 13.21045   ,  3.47975   ,  1.41029   , 72.638     ,\n",
       "               0.58995   ,  8.43204   ,  0.        ,  0.        ]), array([ 1.51898632, 13.58285   ,  3.34954   ,  1.23053   , 72.078     ,\n",
       "               0.58995   ,  8.90548   ,  0.        ,  0.        ]), array([ 1.51761952, 13.88875   ,  3.60098   ,  1.35893   , 72.7276    ,\n",
       "               0.47817   ,  7.82948   ,  0.        ,  0.        ]), array([ 1.51720948, 13.3767    ,  3.5022    ,  1.15028   , 72.8508    ,\n",
       "               0.50301   ,  8.43204   ,  0.        ,  0.        ]), array([ 1.52210718, 13.72915   ,  3.83895   ,  0.72014   , 71.7588    ,\n",
       "               0.16767   ,  9.74476   ,  0.        ,  0.        ]), array([ 1.51919134, 14.417     ,  3.57853   ,  1.36856   , 72.078     ,\n",
       "               0.5589    ,  8.30292   ,  0.        ,  0.        ]), array([ 1.51837126, 13.1373    ,  2.84217   ,  1.27868   , 72.8508    ,\n",
       "               0.55269   ,  9.06688   ,  0.        ,  0.        ]), array([ 1.51595658, 12.7915    ,  3.60996   ,  1.61894   , 72.9684    ,\n",
       "               0.63963   ,  8.0662    ,  0.        ,  0.1326    ]), array([1.51734616e+00, 1.30176000e+01, 3.53812000e+00, 1.68956000e+00,\n",
       "              7.27276000e+01, 5.40270000e-01, 8.44280000e+00, 0.00000000e+00,\n",
       "              3.57000000e-02]), array([ 1.51777898, 13.21045   ,  3.38995   ,  1.33004   , 72.7612    ,\n",
       "               0.58995   ,  8.59344   ,  0.        ,  0.        ]), array([ 1.51755118, 13.4831    ,  3.74017   ,  1.16954   , 72.9908    ,\n",
       "               0.58995   ,  8.03392   ,  0.        ,  0.        ]), array([ 1.515706, 12.71835 ,  3.46179 ,  1.56116 , 73.198   ,  0.67068 ,\n",
       "               8.08772 ,  0.      ,  0.1224  ]), array([ 1.51910022, 13.88875   ,  3.52914   ,  1.32041   , 71.8092    ,\n",
       "               0.50922   ,  8.77636   ,  0.11025   ,  0.        ]), array([ 1.51869018, 13.1905    ,  3.37199   ,  1.17917   , 72.722     ,\n",
       "               0.57132   ,  8.83016   ,  0.        ,  0.0816    ]), array([ 1.51784732, 13.7745    ,  3.48873   ,  1.27868   , 72.862     ,\n",
       "               0.60237   ,  8.48584   ,  0.        ,  0.        ]), array([1.52101374e+00, 1.36427000e+01, 4.49000000e+00, 1.09892000e+00,\n",
       "              7.17812000e+01, 6.21000000e-02, 8.75484000e+00, 0.00000000e+00,\n",
       "              0.00000000e+00]), array([ 1.51750562, 12.8181    ,  3.55159   ,  1.49054   , 72.75      ,\n",
       "               0.54027   ,  8.51812   ,  0.        ,  0.0969    ]), array([ 1.52212996, 14.20795   ,  3.82099   ,  0.46976   , 71.77      ,\n",
       "               0.11178   ,  9.5726    ,  0.        ,  0.        ]), array([1.52666318e+00, 1.39885000e+01, 3.69976000e+00, 7.10510000e-01,\n",
       "              7.15684000e+01, 1.86300000e-02, 9.82008000e+00, 0.00000000e+00,\n",
       "              5.10000000e-02]), array([1.51925968e+00, 1.31971500e+01, 3.33158000e+00, 1.27868000e+00,\n",
       "              7.23580000e+01, 6.02370000e-01, 9.14220000e+00, 0.00000000e+00,\n",
       "              5.61000000e-02]), array([ 1.51618438, 13.52965   ,  3.55159   ,  1.53869   , 72.9908    ,\n",
       "               0.39123   ,  7.77568   ,  0.        ,  0.        ]), array([ 1.51736894, 12.7782    ,  3.61894   ,  1.29152   , 72.7892    ,\n",
       "               0.58995   ,  8.70104   ,  0.        ,  0.        ]), array([ 1.51768786, 12.45235   ,  2.71196   ,  1.29152   , 73.702     ,\n",
       "               0.5589    ,  9.05612   ,  0.        ,  0.1224    ]), array([ 1.51905466, 13.6028    ,  3.61894   ,  1.10855   , 72.638     ,\n",
       "               0.14283   ,  8.75484   ,  0.        ,  0.        ]), array([ 1.5177562, 13.52965  ,  3.40791  ,  1.51943  , 72.0388   ,\n",
       "               0.57753  ,  8.78712  ,  0.       ,  0.       ]), array([ 1.51609326, 13.33015   ,  3.52914   ,  1.33967   , 72.6716    ,\n",
       "               0.5589    ,  8.3352    ,  0.        ,  0.        ]), array([ 1.51663998, 13.1373    ,  3.44832   ,  1.76018   , 72.4812    ,\n",
       "               0.60237   ,  8.37824   ,  0.        ,  0.0867    ]), array([ 1.52210718, 14.188     ,  3.78058   ,  0.90953   , 71.3612    ,\n",
       "               0.22977   ,  9.1422    ,  0.        ,  0.1887    ]), array([ 1.51693612, 12.858     ,  3.57853   ,  1.31078   , 72.61      ,\n",
       "               0.60858   ,  8.78712   ,  0.        ,  0.        ]), array([1.51777898e+00, 1.36427000e+01, 3.65037000e+00, 6.49520000e-01,\n",
       "              7.30020000e+01, 6.21000000e-02, 8.92700000e+00, 0.00000000e+00,\n",
       "              0.00000000e+00]), array([ 1.51796122, 13.50305   ,  3.35852   ,  1.62857   , 71.938     ,\n",
       "               0.57132   ,  8.80864   ,  0.        ,  0.459     ]), array([ 1.51609326, 13.42325   ,  3.39893   ,  1.2209    , 72.6884    ,\n",
       "               0.58995   ,  8.32444   ,  0.        ,  0.        ]), array([ 1.5193508, 13.6427   ,  3.53812  ,  0.74903  , 72.6492   ,\n",
       "               0.16146  ,  8.89472  ,  0.1512   ,  0.1224   ]), array([ 1.51768786, 13.64935   ,  3.65935   ,  1.10855   , 72.7724    ,\n",
       "               0.11178   ,  8.6042    ,  0.        ,  0.        ]), array([ 1.5183257, 13.33015  ,  3.34056  ,  1.53869  , 72.1396   ,\n",
       "               0.5589   ,  8.99156  ,  0.       ,  0.       ]), array([1.51670832e+00, 1.32370500e+01, 3.56955000e+00, 1.38140000e+00,\n",
       "              7.26996000e+01, 5.58900000e-01, 8.44280000e+00, 0.00000000e+00,\n",
       "              5.10000000e-02]), array([ 1.5151365, 14.00845  ,  2.68053  ,  3.5      , 69.8884   ,\n",
       "               1.68291  ,  5.87116  ,  2.1987   ,  0.       ]), array([ 1.51315464, 13.0176    ,  0.        ,  3.04097   , 70.482     ,\n",
       "               6.21      ,  6.95792   ,  0.        ,  0.        ]), array([ 1.52119598, 12.97105   ,  0.32777   ,  1.5098    , 73.3884    ,\n",
       "               0.13041   , 11.27268   ,  0.        ,  0.1428    ]), array([ 1.5215149, 11.02925  ,  1.71069  ,  1.56116  , 73.4388   ,\n",
       "               0.57753  , 11.617    ,  0.       ,  0.       ]), array([ 1.5132002, 12.99765  ,  0.       ,  3.0185   , 70.7004   ,\n",
       "               6.21     ,  6.92564  ,  0.       ,  0.       ]), array([ 1.51666276, 12.858     ,  0.        ,  1.8308    , 73.8812    ,\n",
       "               0.96876   , 10.17516   ,  0.        ,  0.        ]), array([ 1.523679, 13.4432  ,  0.      ,  1.58042 , 72.218   ,  0.32292 ,\n",
       "              12.24108 ,  0.      ,  0.      ]), array([ 1.52042146, 13.3767    ,  0.        ,  1.40066   , 72.2516    ,\n",
       "               0.32913   , 12.49932   ,  0.        ,  0.        ]), array([ 1.51994308, 13.2703    ,  0.        ,  1.76018   , 73.03      ,\n",
       "               0.47196   , 11.31572   ,  0.        ,  0.        ]), array([ 1.52058092, 12.85135   ,  1.61191   ,  2.17106   , 72.1788    ,\n",
       "               0.75762   ,  9.70172   ,  0.2394    ,  0.2601    ]), array([ 1.52171992, 11.56125   ,  1.88131   ,  1.56116   , 72.862     ,\n",
       "               0.47196   , 11.41256   ,  0.        ,  0.        ]), array([ 1.5196925, 14.5604   ,  0.       ,  0.55964  , 73.478    ,\n",
       "               0.       , 11.21888  ,  0.       ,  0.       ]), array([ 1.51115, 17.38   ,  0.     ,  0.34136, 75.41   ,  0.     ,\n",
       "               6.64588,  0.     ,  0.     ]), array([ 1.51937358, 13.789     ,  2.41113   ,  1.1888    , 72.7612    ,\n",
       "               0.        ,  9.76628   ,  0.        ,  0.        ]), array([ 1.51828014, 14.46065   ,  2.24051   ,  1.61894   , 72.3804    ,\n",
       "               0.        ,  9.26056   ,  0.        ,  0.        ]), array([ 1.51853072, 14.08825   ,  2.19112   ,  1.66067   , 72.6716    ,\n",
       "               0.        ,  9.32512   ,  0.        ,  0.        ]), array([ 1.51299518, 14.4008    ,  1.74212   ,  1.53869   , 74.5476    ,\n",
       "               0.        ,  7.59276   ,  0.        ,  0.        ]), array([ 1.51887242, 14.99265   ,  0.78126   ,  1.74092   , 72.498     ,\n",
       "               0.        ,  9.9492    ,  0.        ,  0.        ]), array([ 1.51905466, 14.0018    ,  2.38868   ,  1.56116   , 72.3692    ,\n",
       "               0.        ,  9.5726    ,  0.        ,  0.        ]), array([ 1.51652608, 11.94695   ,  0.        ,  1.1888    , 75.1804    ,\n",
       "               2.70135   ,  8.927     ,  0.        ,  0.        ]), array([ 1.52064926, 14.3609    ,  0.        ,  2.02019   , 73.422     ,\n",
       "               0.        ,  8.4428    ,  1.64115   ,  0.        ]), array([ 1.51130946, 13.68925   ,  3.20137   ,  1.81154   , 72.8116    ,\n",
       "               1.75743   ,  5.43      ,  1.1907    ,  0.        ]), array([1.51556932e+00, 1.38688000e+01, 0.00000000e+00, 2.54021000e+00,\n",
       "              7.32316000e+01, 1.42830000e-01, 9.41120000e+00, 8.09550000e-01,\n",
       "              5.10000000e-03]), array([ 1.5163894, 14.36755  ,  0.       ,  2.73923  , 72.8508   ,\n",
       "               0.       ,  9.45424  ,  0.53865  ,  0.       ]), array([ 1.52315506, 13.4432    ,  3.34056   ,  1.23053   , 72.3804    ,\n",
       "               0.60237   ,  8.83016   ,  0.        ,  0.        ]), array([1.51545542e+00, 1.41414500e+01, 0.00000000e+00, 2.68145000e+00,\n",
       "              7.33884000e+01, 8.07300000e-02, 9.06688000e+00, 6.11100000e-01,\n",
       "              2.55000000e-02]), array([ 1.5165033, 14.38085  ,  0.       ,  1.93994  , 73.6124   ,\n",
       "               0.       ,  8.47508  ,  1.5687   ,  0.       ]), array([1.51682222e+00, 1.45604000e+01, 0.00000000e+00, 1.97846000e+00,\n",
       "              7.32876000e+01, 0.00000000e+00, 8.51812000e+00, 1.56870000e+00,\n",
       "              3.57000000e-02]), array([ 1.51645774, 14.93945   ,  0.        ,  1.86932   , 73.1084    ,\n",
       "               0.        ,  8.66876   ,  1.3797    ,  0.        ]), array([1.5171867e+00, 1.4753250e+01, 0.0000000e+00, 2.0009300e+00,\n",
       "              7.3018800e+01, 0.0000000e+00, 8.5288800e+00, 1.5907500e+00,\n",
       "              4.0800000e-02]), array([ 1.5161616, 14.95275  ,  0.       ,  2.27057  , 73.2988   ,\n",
       "               0.       ,  8.7118   ,  0.67095  ,  0.       ]), array([ 1.51711836, 14.2279    ,  0.        ,  2.08118   , 73.3604    ,\n",
       "               0.        ,  8.61496   ,  1.6695    ,  0.        ]), array([ 1.52365622, 15.79065   ,  1.83192   ,  1.31078   , 70.4316    ,\n",
       "               0.3105    ,  8.61496   ,  1.67895   ,  0.        ]), array([ 1.5151365, 14.853    ,  0.       ,  2.42144  , 73.7188   ,\n",
       "               0.       ,  8.389    ,  0.5607   ,  0.       ]), array([ 1.516845, 14.9195  ,  0.      ,  1.9913  , 73.58    ,  0.      ,\n",
       "               8.39976 ,  1.59075 ,  0.      ]), array([1.51622994e+00, 1.42013000e+01, 0.00000000e+00, 2.79059000e+00,\n",
       "              7.34612000e+01, 3.72600000e-02, 9.04536000e+00, 4.00050000e-01,\n",
       "              4.59000000e-01]), array([1.51531874e+00, 1.43808500e+01, 0.00000000e+00, 2.65898000e+00,\n",
       "              7.30972000e+01, 3.72600000e-02, 9.07764000e+00, 6.39450000e-01,\n",
       "              0.00000000e+00]), array([1.51609326e+00, 1.51260000e+01, 0.00000000e+00, 2.51132000e+00,\n",
       "              7.30524000e+01, 4.96800000e-02, 8.83016000e+00, 5.29200000e-01,\n",
       "              0.00000000e+00]), array([ 1.51830292, 14.3875    ,  0.        ,  1.82117   , 72.862     ,\n",
       "               1.40967   ,  6.47372   ,  2.8791    ,  0.        ]), array([ 1.51602492, 14.853     ,  0.        ,  2.37971   , 73.282     ,\n",
       "               0.        ,  8.75484   ,  0.63945   ,  0.459     ]), array([ 1.51727782, 14.70005   ,  0.        ,  2.34119   , 73.282     ,\n",
       "               0.        ,  8.94852   ,  0.6615    ,  0.        ]), array([ 1.51622994, 14.14145   ,  0.        ,  2.88047   , 72.61      ,\n",
       "               0.08073   ,  9.18524   ,  1.06155   ,  0.        ]), array([ 1.51837126, 14.321     ,  3.25974   ,  2.21921   , 71.2492    ,\n",
       "               1.45935   ,  5.78508   ,  1.62855   ,  0.        ]), array([ 1.51657164, 14.7998    ,  0.        ,  1.9913    , 73.1084    ,\n",
       "               0.        ,  8.2814    ,  1.71045   ,  0.        ]), array([ 1.51732338, 14.95275   ,  0.        ,  1.7987    , 72.9908    ,\n",
       "               0.        ,  8.61496   ,  1.5498    ,  0.        ]), array([ 1.51766508, 13.21045   ,  3.69078   ,  1.29152   , 72.61      ,\n",
       "               0.57132   ,  8.21684   ,  0.        ,  0.        ]), array([ 1.51566044, 13.29025   ,  3.44832   ,  1.21127   , 72.7388    ,\n",
       "               0.5589    ,  8.57192   ,  0.        ,  0.        ]), array([ 1.52226664, 14.16805   ,  3.81201   ,  0.78113   , 71.35      ,\n",
       "               0.        ,  9.69096   ,  0.        ,  0.        ]), array([ 1.51777898, 13.21045   ,  2.81074   ,  1.29152   , 72.9796    ,\n",
       "               0.50922   ,  9.02384   ,  0.        ,  0.459     ]), array([ 1.5219705, 14.3609   ,  3.84793  ,  0.89027  , 71.3612   ,\n",
       "               0.14904  ,  9.15296  ,  0.       ,  0.       ]), array([ 1.5190091, 13.48975  ,  3.47975  ,  1.3493   , 71.9492   ,\n",
       "               0.55269  ,  9.00232  ,  0.       ,  0.       ]), array([ 1.5196925, 12.63855  ,  0.       ,  1.65104  , 73.7524   ,\n",
       "               0.37881  , 11.53092  ,  0.       ,  0.       ]), array([ 1.51914578, 12.73165   ,  1.84988   ,  1.85969   , 72.6884    ,\n",
       "               0.60237   , 10.08908   ,  0.        ,  0.        ]), array([ 1.51916856, 14.1481    ,  0.        ,  2.09081   , 72.7388    ,\n",
       "               0.        , 10.88532   ,  0.        ,  0.        ]), array([ 1.51613882, 13.8821    ,  1.77804   ,  1.78907   , 73.0972    ,\n",
       "               0.        ,  8.66876   ,  0.75915   ,  0.        ]), array([ 1.51509094, 15.15225   ,  0.        ,  2.25131   , 73.5004    ,\n",
       "               0.        ,  8.3352    ,  0.63      ,  0.        ]), array([ 1.52247166, 14.85965   ,  2.2001    ,  2.05871   , 70.258     ,\n",
       "               0.75762   ,  9.75552   ,  0.        ,  0.        ])])                                                                        ,\n",
       "       'maj1111',\n",
       "       list([array([ 1.51645774, 13.40995   ,  3.55159   ,  1.24979   , 72.8116    ,\n",
       "               0.6831    ,  8.09848   ,  0.        ,  0.        ]), array([ 1.51629828, 12.7117    ,  3.33158   ,  1.49054   , 73.282     ,\n",
       "               0.67068   ,  8.23836   ,  0.        ,  0.        ]), array([ 1.52725546, 13.8023    ,  3.15198   ,  0.65915   , 70.5716    ,\n",
       "               0.08073   , 11.63852   ,  0.        ,  0.        ]), array([1.51891798e+00, 1.34631500e+01, 3.82997000e+00, 1.25942000e+00,\n",
       "              7.25484000e+01, 5.71320000e-01, 8.20608000e+00, 0.00000000e+00,\n",
       "              7.14000000e-02]), array([1.51871296e+00, 1.29311500e+01, 3.65935000e+00, 1.56116000e+00,\n",
       "              7.25092000e+01, 5.77530000e-01, 8.55040000e+00, 0.00000000e+00,\n",
       "              6.12000000e-02]), array([ 1.52176548, 13.7491    ,  1.01025   ,  1.35893   , 72.19      ,\n",
       "               0.32913   , 11.14356   ,  0.        ,  0.        ]), array([ 1.5162755, 12.99765  ,  3.57853  ,  1.53869  , 72.8284   ,\n",
       "               0.60858  ,  8.04468  ,  0.       ,  0.       ]), array([ 1.51618438, 13.01095   ,  3.5022    ,  1.48091   , 72.89      ,\n",
       "               0.60237   ,  8.12      ,  0.        ,  0.        ]), array([ 1.5160477, 12.8979   ,  3.43934  ,  1.44881  , 73.58     ,\n",
       "               0.44091  ,  8.27064  ,  0.       ,  0.       ]), array([ 1.5170728, 13.7225   ,  3.6818   ,  1.81154  , 72.0612   ,\n",
       "               0.63963  ,  7.88328  ,  0.       ,  0.       ]), array([ 1.51666276, 12.9378    ,  3.60996   ,  1.25942   , 72.75      ,\n",
       "               0.5589    ,  8.6042    ,  0.        ,  0.        ]), array([1.52613924e+00, 1.37025500e+01, 0.00000000e+00, 1.35893000e+00,\n",
       "              7.12380000e+01, 1.92510000e-01, 1.34354400e+01, 0.00000000e+00,\n",
       "              5.10000000e-02]), array([ 1.51689056, 13.33015   ,  3.53812   ,  1.60931   , 72.5428    ,\n",
       "               0.6831    ,  8.10924   ,  0.        ,  0.        ]), array([ 1.51645774, 13.4432    ,  3.60996   ,  1.53869   , 72.3916    ,\n",
       "               0.65826   ,  8.03392   ,  0.        ,  0.        ]), array([ 1.5159338, 13.25035  ,  3.44832  ,  1.42955  , 73.17     ,\n",
       "               0.60858  ,  7.86176  ,  0.       ,  0.       ]), array([ 1.51743728, 12.19965   ,  3.25076   ,  1.15991   , 73.5508    ,\n",
       "               0.621     ,  8.89472   ,  0.        ,  0.1224    ]), array([ 1.52474966, 11.4482    ,  0.        ,  1.87895   , 72.19      ,\n",
       "               0.8073    , 13.24176   ,  0.        ,  0.1734    ]), array([1.51828014e+00, 1.32370500e+01, 3.90181000e+00, 1.41029000e+00,\n",
       "              7.23300000e+01, 5.52690000e-01, 8.31368000e+00, 0.00000000e+00,\n",
       "              5.10000000e-02]), array([ 1.51789288, 13.1905    ,  3.90181   ,  1.30115   , 72.33      ,\n",
       "               0.55269   ,  8.4428    ,  0.        ,  0.1428    ]), array([ 1.51839404, 12.85135   ,  3.66833   ,  1.24016   , 72.5708    ,\n",
       "               0.621     ,  8.67952   ,  0.        ,  0.1785    ]), array([ 1.5159338, 13.09075  ,  3.592    ,  1.51943  , 73.0972   ,\n",
       "               0.67068  ,  7.82948  ,  0.       ,  0.       ]), array([ 1.5159338, 13.09075  ,  3.52016  ,  1.55153  , 72.8676   ,\n",
       "               0.6831   ,  8.04468  ,  0.       ,  0.459    ]), array([1.51588824e+00, 1.31173500e+01, 3.40791000e+00, 1.58042000e+00,\n",
       "              7.32596000e+01, 6.83100000e-02, 8.38900000e+00, 0.00000000e+00,\n",
       "              9.69000000e-02]), array([ 1.51818902, 12.6186    ,  2.76135   ,  0.82928   , 73.8084    ,\n",
       "               0.34776   ,  9.42196   ,  0.        ,  0.102     ]), array([ 1.51846238, 13.0974    ,  3.96916   ,  1.1888    , 72.442     ,\n",
       "               0.60237   ,  8.43204   ,  0.        ,  0.        ]), array([ 1.52080872, 13.78235   ,  2.28092   ,  1.42955   , 71.9884    ,\n",
       "               0.49059   ,  9.85236   ,  0.        ,  0.0867    ]), array([ 1.51711836, 12.89125   ,  3.61894   ,  1.57079   , 72.9572    ,\n",
       "               0.60858   ,  8.10924   ,  0.        ,  0.        ]), array([1.51613882e+00, 1.39220000e+01, 3.52016000e+00, 1.24979000e+00,\n",
       "              7.28788000e+01, 3.72600000e-01, 7.93708000e+00, 0.00000000e+00,\n",
       "              7.14000000e-02]), array([ 1.51591102, 12.858     ,  3.52016   ,  2.1197    , 72.6604    ,\n",
       "               0.68931   ,  7.96936   ,  0.        ,  0.        ]), array([ 1.51841682, 13.0176    ,  3.61894   ,  1.0604    , 72.3412    ,\n",
       "               0.63963   ,  9.13144   ,  0.        ,  0.0765    ]), array([ 1.52408904, 13.8289    ,  2.90054   ,  1.16954   , 71.1484    ,\n",
       "               0.08073   , 10.78848   ,  0.        ,  0.        ]), array([ 1.51652608, 13.5629    ,  3.56955   ,  1.47128   , 72.4476    ,\n",
       "               0.63963   ,  7.9586    ,  0.        ,  0.        ]), array([ 1.5184396, 13.25035  ,  3.75813  ,  1.32041  , 72.4028   ,\n",
       "               0.57753  ,  8.42128  ,  0.       ,  0.       ]), array([ 1.51812068, 13.4299    ,  3.97814   ,  1.17917   , 72.4924    ,\n",
       "               0.57753   ,  8.15228   ,  0.        ,  0.        ]), array([ 1.51632106, 13.3368    ,  3.56955   ,  1.57079   , 72.8676    ,\n",
       "               0.60858   ,  7.89404   ,  0.        ,  0.        ]), array([1.51645774e+00, 1.34033000e+01, 3.48873000e+00, 1.51943000e+00,\n",
       "              7.26492000e+01, 6.70680000e-01, 8.07696000e+00, 0.00000000e+00,\n",
       "              5.10000000e-02]), array([1.52222108e+00, 1.44274000e+01, 0.00000000e+00, 9.99410000e-01,\n",
       "              7.26716000e+01, 9.93600000e-02, 1.15201600e+01, 0.00000000e+00,\n",
       "              4.08000000e-02]), array([ 1.52739214, 11.0226    ,  0.        ,  0.74903   , 73.0804    ,\n",
       "               0.        , 14.96336   ,  0.        ,  0.        ]), array([ 1.51686778, 13.2304    ,  3.53812   ,  1.48091   , 72.8396    ,\n",
       "               0.5589    ,  8.09848   ,  0.        ,  0.        ]), array([ 1.51812068, 13.33015   ,  3.84793   ,  1.24979   , 72.778     ,\n",
       "               0.52164   ,  8.12      ,  0.        ,  0.        ]), array([ 1.5166172, 12.85135  ,  3.51118  ,  1.43918  , 73.0076   ,\n",
       "               0.6831   ,  8.2276   ,  0.5985   ,  0.1275   ]), array([1.51572878e+00, 1.48596500e+01, 3.66833000e+00, 1.74092000e+00,\n",
       "              7.18708000e+01, 1.61460000e-01, 7.35604000e+00, 0.00000000e+00,\n",
       "              6.12000000e-02]), array([ 1.51625272, 13.35675   ,  3.57853   ,  1.49054   , 72.722     ,\n",
       "               0.44712   ,  8.20608   ,  0.        ,  0.        ]), array([ 1.51859906, 13.35675   ,  3.43036   ,  1.42955   , 72.2628    ,\n",
       "               0.50922   ,  8.6042    ,  0.        ,  0.        ]), array([ 1.5173006, 12.3526   ,  2.72094  ,  1.62857  , 72.8676   ,\n",
       "               0.70173  ,  9.22828  ,  0.       ,  0.       ]), array([ 1.5170728, 13.4831   ,  3.47975  ,  1.70882  , 72.5204   ,\n",
       "               0.621    ,  7.99088  ,  0.       ,  0.       ]), array([1.51805234e+00, 1.29976500e+01, 3.79854000e+00, 1.07966000e+00,\n",
       "              7.30692000e+01, 5.58900000e-01, 8.37824000e+00, 0.00000000e+00,\n",
       "              6.12000000e-02]), array([ 1.51591102, 13.0176    ,  3.57853   ,  1.5098    , 73.1196    ,\n",
       "               0.68931   ,  7.9586    ,  0.        ,  0.        ]), array([ 1.51568322, 13.23705   ,  3.48873   ,  1.47128   , 73.2484    ,\n",
       "               0.37881   ,  8.03392   ,  0.        ,  0.        ]), array([ 1.51841682, 12.93115   ,  3.74017   ,  1.10855   , 72.2796    ,\n",
       "               0.63963   ,  8.95928   ,  0.        ,  0.1122    ]), array([ 1.53393, 12.2994 ,  0.     ,  0.99941, 70.1628 ,  0.11799,\n",
       "              16.19   ,  0.     ,  0.1224 ]), array([1.5277794e+00, 1.2638550e+01, 0.0000000e+00, 6.6878000e-01,\n",
       "              7.2022000e+01, 6.2100000e-02, 1.4403840e+01, 0.0000000e+00,\n",
       "              0.0000000e+00]), array([ 1.52019366, 13.98185   ,  1.35149   ,  1.62857   , 71.7588    ,\n",
       "               0.39123   , 10.56252   ,  0.        ,  0.51      ]), array([ 1.51800678, 13.7092    ,  3.92875   ,  1.53869   , 71.8092    ,\n",
       "               0.54027   ,  8.20608   ,  0.        ,  0.0765    ]), array([ 1.51591102, 12.8181    ,  3.52016   ,  1.90142   , 72.862     ,\n",
       "               0.68931   ,  7.96936   ,  0.        ,  0.        ]), array([ 1.5163894, 12.5521   ,  3.47975  ,  1.86932  , 73.2316   ,\n",
       "               0.62721  ,  8.07696  ,  0.       ,  0.459    ]), array([ 1.51591102, 13.23705   ,  3.34056   ,  1.47128   , 73.0972    ,\n",
       "               0.39123   ,  8.21684   ,  0.        ,  0.        ]), array([ 1.51654886, 12.7516    ,  2.85115   ,  1.43918   , 73.2708    ,\n",
       "               0.57132   ,  8.78712   ,  0.11025   ,  0.1122    ]), array([ 1.5167311, 13.2969   ,  3.64139  ,  1.52906  , 72.5316   ,\n",
       "               0.65205  ,  8.03392  ,  0.       ,  0.1479   ]), array([ 1.52176548, 13.19715   ,  3.6818    ,  1.15028   , 72.75      ,\n",
       "               0.54027   ,  8.51812   ,  0.        ,  0.        ]), array([ 1.5167311, 12.8713   ,  3.56057  ,  1.64141  , 73.142    ,\n",
       "               0.65205  ,  7.99088  ,  0.       ,  0.       ]), array([ 1.51595658, 13.0176    ,  3.56057   ,  1.53869   , 73.1084    ,\n",
       "               0.72036   ,  7.9048    ,  0.        ,  0.        ]), array([ 1.51408862, 14.24785   ,  3.08912   ,  2.08118   , 72.2796    ,\n",
       "               1.09917   ,  7.07628   ,  0.        ,  0.        ]), array([ 1.53124196, 10.73      ,  0.        ,  2.10044   , 69.81      ,\n",
       "               0.57753   , 13.29556   ,  3.15      ,  0.1428    ]), array([ 1.51846238, 13.40995   ,  3.88834   ,  1.33004   , 72.3804    ,\n",
       "               0.50922   ,  8.2814    ,  0.        ,  0.        ]), array([ 1.52067204, 13.5496    ,  2.08785   ,  1.6703    , 72.1788    ,\n",
       "               0.52785   ,  9.5726    ,  0.2709    ,  0.0867    ]), array([ 1.5167311, 12.7915   ,  3.52016  ,  1.53869  , 73.3604   ,\n",
       "               0.65826  ,  7.9048   ,  0.       ,  0.       ]), array([ 1.51659442, 12.991     ,  3.17892   ,  1.23053   , 72.9684    ,\n",
       "               0.57753   ,  8.80864   ,  0.        ,  0.1224    ]), array([ 1.51848516, 13.6427    ,  3.87038   ,  1.26905   , 71.9604    ,\n",
       "               0.54027   ,  8.32444   ,  0.        ,  0.1632    ]), array([ 1.51818902, 13.7225    ,  0.        ,  0.55964   , 74.4524    ,\n",
       "               0.        , 10.99292   ,  0.        ,  0.        ]), array([ 1.51663998, 12.93115   ,  3.53812   ,  1.61894   , 72.9572    ,\n",
       "               0.63963   ,  8.03392   ,  0.        ,  0.1071    ]), array([ 1.51709558, 12.99765   ,  3.47077   ,  1.78907   , 72.722     ,\n",
       "               0.65826   ,  8.18456   ,  0.        ,  0.        ]), array([ 1.51689056, 12.6718    ,  2.87809   ,  1.70882   , 73.2092    ,\n",
       "               0.73278   ,  8.53964   ,  0.        ,  0.        ]), array([ 1.5266404, 11.22875  ,  0.       ,  0.7715   , 73.2092   ,\n",
       "               0.       , 14.6836   ,  0.       ,  0.       ]), array([ 1.51850794, 13.19715   ,  3.62792   ,  1.07003   , 72.8284    ,\n",
       "               0.57132   ,  8.41052   ,  0.09135   ,  0.0867    ]), array([ 1.51812068, 12.95775   ,  2.95891   ,  1.42955   , 72.918     ,\n",
       "               0.60237   ,  8.78712   ,  0.1386    ,  0.        ])])                                                                       ],\n",
       "      dtype=object)"
      ]
     },
     "metadata": {},
     "execution_count": 216
    }
   ],
   "source": [
    "# 資料集變為小類的 border 跟 safe 以及 大類 去除 小類且為 noisy 的\n",
    "\"\"\"\n",
    "find the maximum value that existed for that attribute among\n",
    "the minority samples of the 𝐵𝑆 set, and also, find the minimum value that existed for\n",
    "the given attribute among the majority samples set\n",
    "\"\"\"\n",
    "# 先是小類去掉 noisy 再來是 大類 \n",
    "def split_BS_Majdata(point_type,sample,sample_class):\n",
    "    BS_sample = []\n",
    "    Maj_sample = []\n",
    "    return_sample = []\n",
    "    maj = find_maj(sample_class) # 大類\n",
    "    #maj = \"\".join(maj)\n",
    "    for i in range(len(sample_class)):\n",
    "        \n",
    "        if(sample_class[i] == maj):\n",
    "            Maj_sample.append(sample[i])\n",
    "            \n",
    "        elif(sample_class[i] != maj and point_type[i] != \"noisy\"):\n",
    "            BS_sample.append(sample[i])\n",
    "    return_sample = np.array([BS_sample ,Maj_sample ])\n",
    "  \n",
    "    return return_sample\n",
    "point_type = check_point_type(3,finaldata,output,data,False)\n",
    "split_BS_Majdata(point_type,finaldata,output)\n"
   ]
  },
  {
   "cell_type": "code",
   "execution_count": 214,
   "metadata": {},
   "outputs": [
    {
     "output_type": "stream",
     "name": "stdout",
     "text": [
      "noisy 44 \nborder 29 \nsafe 141 \nall 214\n"
     ]
    },
    {
     "output_type": "execute_result",
     "data": {
      "text/plain": [
       "array(['vs',\n",
       "       list([0, 1, 2, 4, 6, 8, 9, 12, 14, 16, 18, 23, 25, 26, 28, 29, 32, 34, 35, 39, 44, 45, 46, 47, 48, 50, 58, 61, 62, 131, 132, 133, 136, 137, 138, 139, 140, 141, 142, 143, 144, 146, 147, 148, 149, 150, 151, 152, 153, 154, 155, 156, 157, 158, 159, 160, 161, 162, 163, 164, 165, 166, 167, 168, 169, 170, 171, 172, 173, 174, 175, 176, 177, 178, 179, 180, 181, 182, 183, 184, 185, 186, 187, 188, 189, 190, 191, 192, 193, 195, 196, 197, 208, 209, 210, 211, 212, 213]),\n",
       "       'ma',\n",
       "       list([63, 64, 65, 66, 67, 68, 69, 70, 71, 72, 73, 74, 75, 76, 77, 78, 79, 80, 81, 82, 83, 84, 85, 86, 87, 88, 89, 90, 91, 92, 93, 94, 95, 96, 97, 98, 99, 100, 101, 102, 103, 104, 105, 106, 107, 108, 109, 110, 111, 112, 113, 114, 115, 116, 117, 118, 119, 120, 121, 122, 123, 124, 125, 126, 127, 128, 129, 130, 198, 199, 200, 201, 202, 203, 204, 205])],\n",
       "      dtype=object)"
      ]
     },
     "metadata": {},
     "execution_count": 214
    }
   ],
   "source": [
    "def index_split_BS_Majdata(point_type,sample,sample_class): # maj 以及 BS set 在原本 data 的 index\n",
    "    BS_sample = []\n",
    "    Maj_sample = []\n",
    "    return_sample = []\n",
    "    maj = find_maj(sample_class) # 大類\n",
    "    #maj = \"\".join(maj)\n",
    "    for i in range(len(sample_class)):\n",
    "        #print(sample_class[i])\n",
    "        \n",
    "        if(sample_class[i] == maj):\n",
    "            Maj_sample.append(i)\n",
    "            \n",
    "        elif(sample_class[i] != maj and point_type[i] != \"noisy\"):\n",
    "            BS_sample.append(i)\n",
    "    return_sample = np.array([ BS_sample ,Maj_sample ])\n",
    "    \n",
    "    return return_sample\n",
    "point_type = check_point_type(3,finaldata,output,data,False)\n",
    "index_split_BS_Majdata(point_type,finaldata,output) "
   ]
  },
  {
   "cell_type": "code",
   "execution_count": 204,
   "metadata": {},
   "outputs": [
    {
     "output_type": "execute_result",
     "data": {
      "text/plain": [
       "[array([0, 6]),\n",
       " array([1, 0]),\n",
       " array([ 2, 59]),\n",
       " array([ 3, 63]),\n",
       " array([ 4, 67]),\n",
       " array([ 5, 47])]"
      ]
     },
     "metadata": {},
     "execution_count": 204
    }
   ],
   "source": [
    "def classprocess(output):\n",
    "    c = Counter(output)\n",
    "    datagap = []\n",
    "    maj = find_maj(output)\n",
    "    maj_num = dict(c)[find_maj(output)]\n",
    "    for className, number in counter.items(): \n",
    "        #print(className,\" \",number)\n",
    "        temp = np.array([className,(maj_num - number)])\n",
    "        datagap.append(temp)\n",
    "    return datagap\n",
    "\n",
    "classprocess(output)\n"
   ]
  },
  {
   "cell_type": "code",
   "execution_count": 208,
   "metadata": {},
   "outputs": [
    {
     "output_type": "execute_result",
     "data": {
      "text/plain": [
       "array([ 1.51588824, 12.87795   ,  3.43036   ,  1.40066   , 73.282     ,\n",
       "        0.68931   ,  8.04468   ,  0.        ,  0.1224    ])"
      ]
     },
     "metadata": {},
     "execution_count": 208
    }
   ],
   "source": [
    "finaldata[0]"
   ]
  },
  {
   "cell_type": "code",
   "execution_count": 209,
   "metadata": {},
   "outputs": [
    {
     "output_type": "stream",
     "name": "stdout",
     "text": [
      "noisy 44 \nborder 29 \nsafe 141 \nall 214\n"
     ]
    },
    {
     "output_type": "error",
     "ename": "IndexError",
     "evalue": "index 2 is out of bounds for axis 0 with size 2",
     "traceback": [
      "\u001b[0;31m---------------------------------------------------------------------------\u001b[0m",
      "\u001b[0;31mIndexError\u001b[0m                                Traceback (most recent call last)",
      "\u001b[0;32m<ipython-input-209-d4a2cb3c4bb7>\u001b[0m in \u001b[0;36m<module>\u001b[0;34m\u001b[0m\n\u001b[1;32m     44\u001b[0m     \u001b[0mall_value\u001b[0m \u001b[0;34m=\u001b[0m \u001b[0mnp\u001b[0m\u001b[0;34m.\u001b[0m\u001b[0marray\u001b[0m\u001b[0;34m(\u001b[0m\u001b[0;34m[\u001b[0m\u001b[0mBS_max\u001b[0m\u001b[0;34m,\u001b[0m\u001b[0mMaj_min\u001b[0m\u001b[0;34m,\u001b[0m\u001b[0mrange_value\u001b[0m\u001b[0;34m]\u001b[0m\u001b[0;34m)\u001b[0m\u001b[0;34m\u001b[0m\u001b[0;34m\u001b[0m\u001b[0m\n\u001b[1;32m     45\u001b[0m     \u001b[0;32mreturn\u001b[0m \u001b[0mall_value\u001b[0m\u001b[0;34m\u001b[0m\u001b[0;34m\u001b[0m\u001b[0m\n\u001b[0;32m---> 46\u001b[0;31m \u001b[0mrange_value\u001b[0m\u001b[0;34m(\u001b[0m\u001b[0;36m3\u001b[0m\u001b[0;34m,\u001b[0m\u001b[0mfinaldata\u001b[0m\u001b[0;34m,\u001b[0m\u001b[0moutput\u001b[0m\u001b[0;34m,\u001b[0m\u001b[0mdata\u001b[0m\u001b[0;34m)\u001b[0m\u001b[0;34m\u001b[0m\u001b[0;34m\u001b[0m\u001b[0m\n\u001b[0m",
      "\u001b[0;32m<ipython-input-209-d4a2cb3c4bb7>\u001b[0m in \u001b[0;36mrange_value\u001b[0;34m(n_nu, sample, sample_class, data)\u001b[0m\n\u001b[1;32m     37\u001b[0m                 \u001b[0mBS_max\u001b[0m\u001b[0;34m.\u001b[0m\u001b[0mappend\u001b[0m\u001b[0;34m(\u001b[0m\u001b[0mmax_value\u001b[0m\u001b[0;34m)\u001b[0m\u001b[0;34m\u001b[0m\u001b[0;34m\u001b[0m\u001b[0m\n\u001b[1;32m     38\u001b[0m             \u001b[0;32melse\u001b[0m\u001b[0;34m:\u001b[0m\u001b[0;34m\u001b[0m\u001b[0;34m\u001b[0m\u001b[0m\n\u001b[0;32m---> 39\u001b[0;31m                 \u001b[0mMaj_index\u001b[0m \u001b[0;34m=\u001b[0m \u001b[0mindex\u001b[0m\u001b[0;34m[\u001b[0m\u001b[0mj\u001b[0m\u001b[0;34m]\u001b[0m\u001b[0;34m\u001b[0m\u001b[0;34m\u001b[0m\u001b[0m\n\u001b[0m\u001b[1;32m     40\u001b[0m                 \u001b[0mmin_value\u001b[0m \u001b[0;34m=\u001b[0m \u001b[0mnp\u001b[0m\u001b[0;34m.\u001b[0m\u001b[0mmin\u001b[0m\u001b[0;34m(\u001b[0m\u001b[0msample\u001b[0m\u001b[0;34m[\u001b[0m\u001b[0mMaj_index\u001b[0m\u001b[0;34m]\u001b[0m\u001b[0;34m[\u001b[0m\u001b[0mi\u001b[0m\u001b[0;34m]\u001b[0m\u001b[0;34m)\u001b[0m\u001b[0;34m;\u001b[0m\u001b[0;34m\u001b[0m\u001b[0;34m\u001b[0m\u001b[0m\n\u001b[1;32m     41\u001b[0m                 \u001b[0mMaj_min\u001b[0m\u001b[0;34m.\u001b[0m\u001b[0mappend\u001b[0m\u001b[0;34m(\u001b[0m\u001b[0mmin_value\u001b[0m\u001b[0;34m)\u001b[0m\u001b[0;34m\u001b[0m\u001b[0;34m\u001b[0m\u001b[0m\n",
      "\u001b[0;31mIndexError\u001b[0m: index 2 is out of bounds for axis 0 with size 2"
     ]
    }
   ],
   "source": [
    "\"\"\"\n",
    "The obtained ranges for\n",
    "all features (attributes) are used to control the location of the new synthetic samples in\n",
    "data space.\n",
    "\n",
    "The set of these ranges is denoted by 𝑅𝑎𝑛𝑔𝑒 =\n",
    "(𝑟𝑎𝑛𝑔𝑒1 𝑟𝑎𝑛𝑔𝑒2 𝑟𝑎𝑛𝑔𝑒3 … 𝑟𝑎𝑛𝑔𝑒𝑛𝑎𝑡𝑡𝑟) array where 𝑛𝑎𝑡𝑡𝑟 is the number of\n",
    "attributes in the dataset\n",
    "\n",
    "如何產生 Range array\n",
    "1. we find the maximum value that existed for that attribute among\n",
    "the minority samples of the 𝐵𝑆 set  𝑃 _𝑚𝑎𝑥 = (𝑝𝑚𝑎𝑥1 𝑝𝑚𝑎𝑥2\n",
    "…𝑝𝑚𝑎𝑥𝑛𝑎𝑡𝑡𝑟) array\n",
    "\n",
    "2. find the minimum value that existed for\n",
    "the given attribute among the majority samples set  𝑁 _𝑚𝑖𝑛 = (𝑛𝑚𝑖𝑛1 𝑛𝑚𝑖𝑛2 …𝑛𝑚𝑖𝑛𝑛𝑎𝑡𝑡𝑟)array\n",
    "\n",
    "3. Then, the desired 𝑅𝑎𝑛𝑔𝑒 vector is obtained as the average of 𝑁_𝑚𝑖𝑛 and\n",
    "𝑃 _𝑚𝑎𝑥 arrays\n",
    "\n",
    "\"\"\"\n",
    "# dataframe[0] 行數  dataframe[1] 列數\n",
    "# 該屬性中 在 bs set 的最大值 以及 大類中的最小值\n",
    "# range 為兩個相加除以 2\n",
    "# index_split_BS_Majdata 回傳 [0] BS set [1] 回傳 Maj set\n",
    "def range_value(n_nu,sample,sample_class,data):\n",
    "    point_type = check_point_type(n_nu,sample,sample_class,data,False)\n",
    "    index = index_split_BS_Majdata(point_type,sample,sample_class)\n",
    "    BS_max = []\n",
    "    Maj_min = []\n",
    "    all_value = []\n",
    "    for i in range(len(sample[0])): # loop 屬性\n",
    "        for j in range(2): # loop data\n",
    "            if(j==0): # BS set 的 index\n",
    "                BS_index = index[j]\n",
    "                max_value = np.max(sample[BS_index][i]);\n",
    "                BS_max.append(max_value)\n",
    "            else:\n",
    "                Maj_index = index[j]\n",
    "                min_value = np.min(sample[Maj_index][i]);\n",
    "                Maj_min.append(min_value)\n",
    "    # temp = np.array([BS_max,Maj_min]) \n",
    "    range_value = [(BS_max[i] - Maj_min[i])/2 for i in range(len(BS_max))]\n",
    "    all_value = np.array([BS_max,Maj_min,range_value])\n",
    "    return all_value\n",
    "range_value(3,finaldata,output,data)"
   ]
  },
  {
   "cell_type": "code",
   "execution_count": 185,
   "metadata": {},
   "outputs": [
    {
     "output_type": "stream",
     "name": "stdout",
     "text": [
      "noisy 44 \nborder 29 \nsafe 141 \nall 214\n29\n"
     ]
    },
    {
     "output_type": "execute_result",
     "data": {
      "text/plain": [
       "3"
      ]
     },
     "metadata": {},
     "execution_count": 185
    }
   ],
   "source": [
    "# b𝑛𝑢𝑚: Number of samples in 𝐵𝑜𝑟𝑑𝑒𝑟 屬於 border 的資料數\n",
    "# compute its(border sample) k nearest neighbors in BS, and save them in BSnn 存放 \n",
    "# compute its(border sample) k nearest neighbors in Maj set, and save them in Majnn\n",
    "def getBSnn_Majnn(n_nu,sample,sample_class,data):     \n",
    "    point_type = check_point_type(n_nu,sample,sample_class,data,False) # 得知所有 sample 中屬於 border 的  \n",
    "    index = index_split_BS_Majdata(point_type,sample,sample_class) \n",
    "    k = knn(n_nu,sample)\n",
    "    BSnn = []\n",
    "    Majnn = []\n",
    "    # 用 border sample 的 index \n",
    "    for i,element in enumerate(point_type):\n",
    "        if(element == \"border\"):\n",
    "            for j in range(2):\n",
    "                for w in index[j]:\n",
    "                    if(j == 0 and i == w ):\n",
    "                        BSnn.append(k[w])\n",
    "                    elif(j==1 and i == w):\n",
    "                        Majnn.append(k[w])\n",
    "        \n",
    "    temp = np.array([BSnn,Majnn]);\n",
    "    print(len(temp[0]+temp[1]))\n",
    "    return temp\n",
    "    \n",
    "len(getBSnn_Majnn(3,finaldata,output,data)[0][0])\n"
   ]
  },
  {
   "cell_type": "code",
   "execution_count": 186,
   "metadata": {},
   "outputs": [
    {
     "output_type": "stream",
     "name": "stdout",
     "text": [
      "noisy 44 \n",
      "border 29 \n",
      "safe 141 \n",
      "all 214\n",
      "29\n",
      "Majnn 3\n",
      "noisy 44 \n",
      "border 29 \n",
      "safe 141 \n",
      "all 214\n",
      "29\n",
      "noisy 44 \n",
      "border 29 \n",
      "safe 141 \n",
      "all 214\n",
      "noisy 44 \n",
      "border 29 \n",
      "safe 141 \n",
      "all 214\n",
      "noisy 44 \n",
      "border 29 \n",
      "safe 141 \n",
      "all 214\n"
     ]
    }
   ],
   "source": [
    "# 生成資料\n",
    "\n",
    "def Populate(r,BSnn,Majnn,Range,P_max,sample,classbelong):\n",
    "    # r 代表要產生的資料的數量 論文定義該數量為增加小類至跟大類相同的數量 達成 50% (大類減小類的數量)\n",
    "    \n",
    "    Bl = len(BSnn)-1\n",
    "    nn_nu = len(BSnn[0])-1\n",
    "    Ml = len(Majnn)-1\n",
    "    Synthetic = []\n",
    "    while(r > 0):\n",
    "        s1row = random.randint(0,Bl)\n",
    "        s1col = random.randint(0,nn_nu)\n",
    "        s1 = BSnn[s1row][s1col]\n",
    "        s2row = random.randint(0,Ml)\n",
    "        s2col = random.randint(0,nn_nu)\n",
    "        s2 = Majnn[s2row][s2col]\n",
    "        min_attr = []\n",
    "        for i in range(len(sample[0])):\n",
    "        \n",
    "            if(sample[s1][i] < sample[s2][i]):\n",
    "                min_attr.append(sample[s1][i])\n",
    "            else:\n",
    "                min_attr.append(sample[s2][i])\n",
    "        diff = [(P_max[i] - min_attr[i]) for i in range(len(P_max))]\n",
    "        #print(\"diff\",diff)\n",
    "        gap = random.uniform(0,0.5)\n",
    "        var = [(diff[i] * gap ) for i in range(len(diff))]\n",
    "        temp = []\n",
    "        for i in range(len(sample[0])):\n",
    "            if(min_attr[i]+var[i] <= Range[i]):\n",
    "                temp.append(min_attr[i]+var[i])\n",
    "            else:\n",
    "                temp.append(P_max[i]-var[i])\n",
    "        temp.append(classbelong) # 應該要變成該類別名字\n",
    "        Synthetic.append(temp)   \n",
    "        r = r-1\n",
    "    return Synthetic\n",
    "    \n",
    "needToGenerate = 232\n",
    "BSnn = getBSnn_Majnn(3,finaldata,output,data)[0]\n",
    "print(\"Majnn\",len(Majnn[1]))\n",
    "Majnn = getBSnn_Majnn(3,finaldata,output,data)[1]\n",
    "Range = range_value(3,finaldata,output,data)\n",
    "P_max = range_value(3,finaldata,output,data)[0]\n",
    "Range = range_value(3,finaldata,output,data)[2]\n",
    "#Populate(needToGenerate,BSnn,Majnn,Range,P_max,finaldata,)"
   ]
  },
  {
   "cell_type": "code",
   "execution_count": 187,
   "metadata": {},
   "outputs": [
    {
     "output_type": "execute_result",
     "data": {
      "text/plain": [
       "[array([0, 6]),\n",
       " array([1, 0]),\n",
       " array([ 2, 59]),\n",
       " array([ 3, 63]),\n",
       " array([ 4, 67]),\n",
       " array([ 5, 47])]"
      ]
     },
     "metadata": {},
     "execution_count": 187
    }
   ],
   "source": [
    "classCount = classprocess(output)\n",
    "classCount\n"
   ]
  },
  {
   "cell_type": "code",
   "execution_count": 200,
   "metadata": {},
   "outputs": [],
   "source": [
    "# 每個類別都要 進行 populate 針對多類別\n",
    "alldata = data.T\n",
    "classCount = classprocess(output)\n",
    "index = 1\n",
    "for i in range(len(classCount)):\n",
    "    over = Populate(classCount[i][1],BSnn,Majnn,Range,P_max,finaldata,classCount[i][0])\n",
    "    length = alldata.shape[1]\n",
    "    for j in range(len(over)):\n",
    "        alldata[length+j] = over[j]\n",
    "      \n",
    "alldata.to_csv(\"tes.csv\")"
   ]
  },
  {
   "cell_type": "code",
   "execution_count": 169,
   "metadata": {},
   "outputs": [
    {
     "output_type": "stream",
     "name": "stdout",
     "text": [
      "Class=1, n=76 (16.667%)\nClass=2, n=76 (16.667%)\nClass=3, n=76 (16.667%)\nClass=5, n=76 (16.667%)\nClass=6, n=76 (16.667%)\nClass=7, n=76 (16.667%)\n"
     ]
    }
   ],
   "source": [
    "y = alldata.iloc[len(alldata)-1,:]\n",
    "y\n",
    "w = Counter(y)\n",
    "w\n",
    "for k,v in w.items():\n",
    "\tper = v / len(y) * 100\n",
    "\tprint('Class=%d, n=%d (%.3f%%)' % (k, v, per))"
   ]
  },
  {
   "cell_type": "code",
   "execution_count": 190,
   "metadata": {},
   "outputs": [
    {
     "output_type": "stream",
     "name": "stdout",
     "text": [
      "Class=0, n=76 (16.667%)\nClass=1, n=76 (16.667%)\nClass=2, n=76 (16.667%)\nClass=3, n=76 (16.667%)\nClass=4, n=76 (16.667%)\nClass=5, n=76 (16.667%)\n"
     ]
    },
    {
     "output_type": "display_data",
     "data": {
      "text/plain": "<Figure size 432x288 with 1 Axes>",
      "image/svg+xml": "<?xml version=\"1.0\" encoding=\"utf-8\" standalone=\"no\"?>\n<!DOCTYPE svg PUBLIC \"-//W3C//DTD SVG 1.1//EN\"\n  \"http://www.w3.org/Graphics/SVG/1.1/DTD/svg11.dtd\">\n<!-- Created with matplotlib (https://matplotlib.org/) -->\n<svg height=\"248.518125pt\" version=\"1.1\" viewBox=\"0 0 368.925 248.518125\" width=\"368.925pt\" xmlns=\"http://www.w3.org/2000/svg\" xmlns:xlink=\"http://www.w3.org/1999/xlink\">\n <metadata>\n  <rdf:RDF xmlns:cc=\"http://creativecommons.org/ns#\" xmlns:dc=\"http://purl.org/dc/elements/1.1/\" xmlns:rdf=\"http://www.w3.org/1999/02/22-rdf-syntax-ns#\">\n   <cc:Work>\n    <dc:type rdf:resource=\"http://purl.org/dc/dcmitype/StillImage\"/>\n    <dc:date>2021-02-23T10:40:38.373023</dc:date>\n    <dc:format>image/svg+xml</dc:format>\n    <dc:creator>\n     <cc:Agent>\n      <dc:title>Matplotlib v3.3.4, https://matplotlib.org/</dc:title>\n     </cc:Agent>\n    </dc:creator>\n   </cc:Work>\n  </rdf:RDF>\n </metadata>\n <defs>\n  <style type=\"text/css\">*{stroke-linecap:butt;stroke-linejoin:round;}</style>\n </defs>\n <g id=\"figure_1\">\n  <g id=\"patch_1\">\n   <path d=\"M -0 248.518125 \nL 368.925 248.518125 \nL 368.925 0 \nL -0 0 \nz\n\" style=\"fill:none;\"/>\n  </g>\n  <g id=\"axes_1\">\n   <g id=\"patch_2\">\n    <path d=\"M 26.925 224.64 \nL 361.725 224.64 \nL 361.725 7.2 \nL 26.925 7.2 \nz\n\" style=\"fill:#ffffff;\"/>\n   </g>\n   <g id=\"patch_3\">\n    <path clip-path=\"url(#p36b52b1473)\" d=\"M 42.143182 224.64 \nL 84.124373 224.64 \nL 84.124373 17.554286 \nL 42.143182 17.554286 \nz\n\" style=\"fill:#1f77b4;\"/>\n   </g>\n   <g id=\"patch_4\">\n    <path clip-path=\"url(#p36b52b1473)\" d=\"M 94.619671 224.64 \nL 136.600862 224.64 \nL 136.600862 17.554286 \nL 94.619671 17.554286 \nz\n\" style=\"fill:#1f77b4;\"/>\n   </g>\n   <g id=\"patch_5\">\n    <path clip-path=\"url(#p36b52b1473)\" d=\"M 147.09616 224.64 \nL 189.077351 224.64 \nL 189.077351 17.554286 \nL 147.09616 17.554286 \nz\n\" style=\"fill:#1f77b4;\"/>\n   </g>\n   <g id=\"patch_6\">\n    <path clip-path=\"url(#p36b52b1473)\" d=\"M 199.572649 224.64 \nL 241.55384 224.64 \nL 241.55384 17.554286 \nL 199.572649 17.554286 \nz\n\" style=\"fill:#1f77b4;\"/>\n   </g>\n   <g id=\"patch_7\">\n    <path clip-path=\"url(#p36b52b1473)\" d=\"M 252.049138 224.64 \nL 294.030329 224.64 \nL 294.030329 17.554286 \nL 252.049138 17.554286 \nz\n\" style=\"fill:#1f77b4;\"/>\n   </g>\n   <g id=\"patch_8\">\n    <path clip-path=\"url(#p36b52b1473)\" d=\"M 304.525627 224.64 \nL 346.506818 224.64 \nL 346.506818 17.554286 \nL 304.525627 17.554286 \nz\n\" style=\"fill:#1f77b4;\"/>\n   </g>\n   <g id=\"matplotlib.axis_1\">\n    <g id=\"xtick_1\">\n     <g id=\"line2d_1\">\n      <defs>\n       <path d=\"M 0 0 \nL 0 3.5 \n\" id=\"mebf0d028d0\" style=\"stroke:#000000;stroke-width:0.8;\"/>\n      </defs>\n      <g>\n       <use style=\"stroke:#000000;stroke-width:0.8;\" x=\"63.133777\" xlink:href=\"#mebf0d028d0\" y=\"224.64\"/>\n      </g>\n     </g>\n     <g id=\"text_1\">\n      <!-- 0 -->\n      <g transform=\"translate(59.952527 239.238437)scale(0.1 -0.1)\">\n       <defs>\n        <path d=\"M 31.78125 66.40625 \nQ 24.171875 66.40625 20.328125 58.90625 \nQ 16.5 51.421875 16.5 36.375 \nQ 16.5 21.390625 20.328125 13.890625 \nQ 24.171875 6.390625 31.78125 6.390625 \nQ 39.453125 6.390625 43.28125 13.890625 \nQ 47.125 21.390625 47.125 36.375 \nQ 47.125 51.421875 43.28125 58.90625 \nQ 39.453125 66.40625 31.78125 66.40625 \nz\nM 31.78125 74.21875 \nQ 44.046875 74.21875 50.515625 64.515625 \nQ 56.984375 54.828125 56.984375 36.375 \nQ 56.984375 17.96875 50.515625 8.265625 \nQ 44.046875 -1.421875 31.78125 -1.421875 \nQ 19.53125 -1.421875 13.0625 8.265625 \nQ 6.59375 17.96875 6.59375 36.375 \nQ 6.59375 54.828125 13.0625 64.515625 \nQ 19.53125 74.21875 31.78125 74.21875 \nz\n\" id=\"DejaVuSans-48\"/>\n       </defs>\n       <use xlink:href=\"#DejaVuSans-48\"/>\n      </g>\n     </g>\n    </g>\n    <g id=\"xtick_2\">\n     <g id=\"line2d_2\">\n      <g>\n       <use style=\"stroke:#000000;stroke-width:0.8;\" x=\"115.610266\" xlink:href=\"#mebf0d028d0\" y=\"224.64\"/>\n      </g>\n     </g>\n     <g id=\"text_2\">\n      <!-- 1 -->\n      <g transform=\"translate(112.429016 239.238437)scale(0.1 -0.1)\">\n       <defs>\n        <path d=\"M 12.40625 8.296875 \nL 28.515625 8.296875 \nL 28.515625 63.921875 \nL 10.984375 60.40625 \nL 10.984375 69.390625 \nL 28.421875 72.90625 \nL 38.28125 72.90625 \nL 38.28125 8.296875 \nL 54.390625 8.296875 \nL 54.390625 0 \nL 12.40625 0 \nz\n\" id=\"DejaVuSans-49\"/>\n       </defs>\n       <use xlink:href=\"#DejaVuSans-49\"/>\n      </g>\n     </g>\n    </g>\n    <g id=\"xtick_3\">\n     <g id=\"line2d_3\">\n      <g>\n       <use style=\"stroke:#000000;stroke-width:0.8;\" x=\"168.086755\" xlink:href=\"#mebf0d028d0\" y=\"224.64\"/>\n      </g>\n     </g>\n     <g id=\"text_3\">\n      <!-- 2 -->\n      <g transform=\"translate(164.905505 239.238437)scale(0.1 -0.1)\">\n       <defs>\n        <path d=\"M 19.1875 8.296875 \nL 53.609375 8.296875 \nL 53.609375 0 \nL 7.328125 0 \nL 7.328125 8.296875 \nQ 12.9375 14.109375 22.625 23.890625 \nQ 32.328125 33.6875 34.8125 36.53125 \nQ 39.546875 41.84375 41.421875 45.53125 \nQ 43.3125 49.21875 43.3125 52.78125 \nQ 43.3125 58.59375 39.234375 62.25 \nQ 35.15625 65.921875 28.609375 65.921875 \nQ 23.96875 65.921875 18.8125 64.3125 \nQ 13.671875 62.703125 7.8125 59.421875 \nL 7.8125 69.390625 \nQ 13.765625 71.78125 18.9375 73 \nQ 24.125 74.21875 28.421875 74.21875 \nQ 39.75 74.21875 46.484375 68.546875 \nQ 53.21875 62.890625 53.21875 53.421875 \nQ 53.21875 48.921875 51.53125 44.890625 \nQ 49.859375 40.875 45.40625 35.40625 \nQ 44.1875 33.984375 37.640625 27.21875 \nQ 31.109375 20.453125 19.1875 8.296875 \nz\n\" id=\"DejaVuSans-50\"/>\n       </defs>\n       <use xlink:href=\"#DejaVuSans-50\"/>\n      </g>\n     </g>\n    </g>\n    <g id=\"xtick_4\">\n     <g id=\"line2d_4\">\n      <g>\n       <use style=\"stroke:#000000;stroke-width:0.8;\" x=\"220.563245\" xlink:href=\"#mebf0d028d0\" y=\"224.64\"/>\n      </g>\n     </g>\n     <g id=\"text_4\">\n      <!-- 3 -->\n      <g transform=\"translate(217.381995 239.238437)scale(0.1 -0.1)\">\n       <defs>\n        <path d=\"M 40.578125 39.3125 \nQ 47.65625 37.796875 51.625 33 \nQ 55.609375 28.21875 55.609375 21.1875 \nQ 55.609375 10.40625 48.1875 4.484375 \nQ 40.765625 -1.421875 27.09375 -1.421875 \nQ 22.515625 -1.421875 17.65625 -0.515625 \nQ 12.796875 0.390625 7.625 2.203125 \nL 7.625 11.71875 \nQ 11.71875 9.328125 16.59375 8.109375 \nQ 21.484375 6.890625 26.8125 6.890625 \nQ 36.078125 6.890625 40.9375 10.546875 \nQ 45.796875 14.203125 45.796875 21.1875 \nQ 45.796875 27.640625 41.28125 31.265625 \nQ 36.765625 34.90625 28.71875 34.90625 \nL 20.21875 34.90625 \nL 20.21875 43.015625 \nL 29.109375 43.015625 \nQ 36.375 43.015625 40.234375 45.921875 \nQ 44.09375 48.828125 44.09375 54.296875 \nQ 44.09375 59.90625 40.109375 62.90625 \nQ 36.140625 65.921875 28.71875 65.921875 \nQ 24.65625 65.921875 20.015625 65.03125 \nQ 15.375 64.15625 9.8125 62.3125 \nL 9.8125 71.09375 \nQ 15.4375 72.65625 20.34375 73.4375 \nQ 25.25 74.21875 29.59375 74.21875 \nQ 40.828125 74.21875 47.359375 69.109375 \nQ 53.90625 64.015625 53.90625 55.328125 \nQ 53.90625 49.265625 50.4375 45.09375 \nQ 46.96875 40.921875 40.578125 39.3125 \nz\n\" id=\"DejaVuSans-51\"/>\n       </defs>\n       <use xlink:href=\"#DejaVuSans-51\"/>\n      </g>\n     </g>\n    </g>\n    <g id=\"xtick_5\">\n     <g id=\"line2d_5\">\n      <g>\n       <use style=\"stroke:#000000;stroke-width:0.8;\" x=\"273.039734\" xlink:href=\"#mebf0d028d0\" y=\"224.64\"/>\n      </g>\n     </g>\n     <g id=\"text_5\">\n      <!-- 4 -->\n      <g transform=\"translate(269.858484 239.238437)scale(0.1 -0.1)\">\n       <defs>\n        <path d=\"M 37.796875 64.3125 \nL 12.890625 25.390625 \nL 37.796875 25.390625 \nz\nM 35.203125 72.90625 \nL 47.609375 72.90625 \nL 47.609375 25.390625 \nL 58.015625 25.390625 \nL 58.015625 17.1875 \nL 47.609375 17.1875 \nL 47.609375 0 \nL 37.796875 0 \nL 37.796875 17.1875 \nL 4.890625 17.1875 \nL 4.890625 26.703125 \nz\n\" id=\"DejaVuSans-52\"/>\n       </defs>\n       <use xlink:href=\"#DejaVuSans-52\"/>\n      </g>\n     </g>\n    </g>\n    <g id=\"xtick_6\">\n     <g id=\"line2d_6\">\n      <g>\n       <use style=\"stroke:#000000;stroke-width:0.8;\" x=\"325.516223\" xlink:href=\"#mebf0d028d0\" y=\"224.64\"/>\n      </g>\n     </g>\n     <g id=\"text_6\">\n      <!-- 5 -->\n      <g transform=\"translate(322.334973 239.238437)scale(0.1 -0.1)\">\n       <defs>\n        <path d=\"M 10.796875 72.90625 \nL 49.515625 72.90625 \nL 49.515625 64.59375 \nL 19.828125 64.59375 \nL 19.828125 46.734375 \nQ 21.96875 47.46875 24.109375 47.828125 \nQ 26.265625 48.1875 28.421875 48.1875 \nQ 40.625 48.1875 47.75 41.5 \nQ 54.890625 34.8125 54.890625 23.390625 \nQ 54.890625 11.625 47.5625 5.09375 \nQ 40.234375 -1.421875 26.90625 -1.421875 \nQ 22.3125 -1.421875 17.546875 -0.640625 \nQ 12.796875 0.140625 7.71875 1.703125 \nL 7.71875 11.625 \nQ 12.109375 9.234375 16.796875 8.0625 \nQ 21.484375 6.890625 26.703125 6.890625 \nQ 35.15625 6.890625 40.078125 11.328125 \nQ 45.015625 15.765625 45.015625 23.390625 \nQ 45.015625 31 40.078125 35.4375 \nQ 35.15625 39.890625 26.703125 39.890625 \nQ 22.75 39.890625 18.8125 39.015625 \nQ 14.890625 38.140625 10.796875 36.28125 \nz\n\" id=\"DejaVuSans-53\"/>\n       </defs>\n       <use xlink:href=\"#DejaVuSans-53\"/>\n      </g>\n     </g>\n    </g>\n   </g>\n   <g id=\"matplotlib.axis_2\">\n    <g id=\"ytick_1\">\n     <g id=\"line2d_7\">\n      <defs>\n       <path d=\"M 0 0 \nL -3.5 0 \n\" id=\"md002614f49\" style=\"stroke:#000000;stroke-width:0.8;\"/>\n      </defs>\n      <g>\n       <use style=\"stroke:#000000;stroke-width:0.8;\" x=\"26.925\" xlink:href=\"#md002614f49\" y=\"224.64\"/>\n      </g>\n     </g>\n     <g id=\"text_7\">\n      <!-- 0 -->\n      <g transform=\"translate(13.5625 228.439219)scale(0.1 -0.1)\">\n       <use xlink:href=\"#DejaVuSans-48\"/>\n      </g>\n     </g>\n    </g>\n    <g id=\"ytick_2\">\n     <g id=\"line2d_8\">\n      <g>\n       <use style=\"stroke:#000000;stroke-width:0.8;\" x=\"26.925\" xlink:href=\"#md002614f49\" y=\"197.39188\"/>\n      </g>\n     </g>\n     <g id=\"text_8\">\n      <!-- 10 -->\n      <g transform=\"translate(7.2 201.191098)scale(0.1 -0.1)\">\n       <use xlink:href=\"#DejaVuSans-49\"/>\n       <use x=\"63.623047\" xlink:href=\"#DejaVuSans-48\"/>\n      </g>\n     </g>\n    </g>\n    <g id=\"ytick_3\">\n     <g id=\"line2d_9\">\n      <g>\n       <use style=\"stroke:#000000;stroke-width:0.8;\" x=\"26.925\" xlink:href=\"#md002614f49\" y=\"170.143759\"/>\n      </g>\n     </g>\n     <g id=\"text_9\">\n      <!-- 20 -->\n      <g transform=\"translate(7.2 173.942978)scale(0.1 -0.1)\">\n       <use xlink:href=\"#DejaVuSans-50\"/>\n       <use x=\"63.623047\" xlink:href=\"#DejaVuSans-48\"/>\n      </g>\n     </g>\n    </g>\n    <g id=\"ytick_4\">\n     <g id=\"line2d_10\">\n      <g>\n       <use style=\"stroke:#000000;stroke-width:0.8;\" x=\"26.925\" xlink:href=\"#md002614f49\" y=\"142.895639\"/>\n      </g>\n     </g>\n     <g id=\"text_10\">\n      <!-- 30 -->\n      <g transform=\"translate(7.2 146.694858)scale(0.1 -0.1)\">\n       <use xlink:href=\"#DejaVuSans-51\"/>\n       <use x=\"63.623047\" xlink:href=\"#DejaVuSans-48\"/>\n      </g>\n     </g>\n    </g>\n    <g id=\"ytick_5\">\n     <g id=\"line2d_11\">\n      <g>\n       <use style=\"stroke:#000000;stroke-width:0.8;\" x=\"26.925\" xlink:href=\"#md002614f49\" y=\"115.647519\"/>\n      </g>\n     </g>\n     <g id=\"text_11\">\n      <!-- 40 -->\n      <g transform=\"translate(7.2 119.446738)scale(0.1 -0.1)\">\n       <use xlink:href=\"#DejaVuSans-52\"/>\n       <use x=\"63.623047\" xlink:href=\"#DejaVuSans-48\"/>\n      </g>\n     </g>\n    </g>\n    <g id=\"ytick_6\">\n     <g id=\"line2d_12\">\n      <g>\n       <use style=\"stroke:#000000;stroke-width:0.8;\" x=\"26.925\" xlink:href=\"#md002614f49\" y=\"88.399398\"/>\n      </g>\n     </g>\n     <g id=\"text_12\">\n      <!-- 50 -->\n      <g transform=\"translate(7.2 92.198617)scale(0.1 -0.1)\">\n       <use xlink:href=\"#DejaVuSans-53\"/>\n       <use x=\"63.623047\" xlink:href=\"#DejaVuSans-48\"/>\n      </g>\n     </g>\n    </g>\n    <g id=\"ytick_7\">\n     <g id=\"line2d_13\">\n      <g>\n       <use style=\"stroke:#000000;stroke-width:0.8;\" x=\"26.925\" xlink:href=\"#md002614f49\" y=\"61.151278\"/>\n      </g>\n     </g>\n     <g id=\"text_13\">\n      <!-- 60 -->\n      <g transform=\"translate(7.2 64.950497)scale(0.1 -0.1)\">\n       <defs>\n        <path d=\"M 33.015625 40.375 \nQ 26.375 40.375 22.484375 35.828125 \nQ 18.609375 31.296875 18.609375 23.390625 \nQ 18.609375 15.53125 22.484375 10.953125 \nQ 26.375 6.390625 33.015625 6.390625 \nQ 39.65625 6.390625 43.53125 10.953125 \nQ 47.40625 15.53125 47.40625 23.390625 \nQ 47.40625 31.296875 43.53125 35.828125 \nQ 39.65625 40.375 33.015625 40.375 \nz\nM 52.59375 71.296875 \nL 52.59375 62.3125 \nQ 48.875 64.0625 45.09375 64.984375 \nQ 41.3125 65.921875 37.59375 65.921875 \nQ 27.828125 65.921875 22.671875 59.328125 \nQ 17.53125 52.734375 16.796875 39.40625 \nQ 19.671875 43.65625 24.015625 45.921875 \nQ 28.375 48.1875 33.59375 48.1875 \nQ 44.578125 48.1875 50.953125 41.515625 \nQ 57.328125 34.859375 57.328125 23.390625 \nQ 57.328125 12.15625 50.6875 5.359375 \nQ 44.046875 -1.421875 33.015625 -1.421875 \nQ 20.359375 -1.421875 13.671875 8.265625 \nQ 6.984375 17.96875 6.984375 36.375 \nQ 6.984375 53.65625 15.1875 63.9375 \nQ 23.390625 74.21875 37.203125 74.21875 \nQ 40.921875 74.21875 44.703125 73.484375 \nQ 48.484375 72.75 52.59375 71.296875 \nz\n\" id=\"DejaVuSans-54\"/>\n       </defs>\n       <use xlink:href=\"#DejaVuSans-54\"/>\n       <use x=\"63.623047\" xlink:href=\"#DejaVuSans-48\"/>\n      </g>\n     </g>\n    </g>\n    <g id=\"ytick_8\">\n     <g id=\"line2d_14\">\n      <g>\n       <use style=\"stroke:#000000;stroke-width:0.8;\" x=\"26.925\" xlink:href=\"#md002614f49\" y=\"33.903158\"/>\n      </g>\n     </g>\n     <g id=\"text_14\">\n      <!-- 70 -->\n      <g transform=\"translate(7.2 37.702377)scale(0.1 -0.1)\">\n       <defs>\n        <path d=\"M 8.203125 72.90625 \nL 55.078125 72.90625 \nL 55.078125 68.703125 \nL 28.609375 0 \nL 18.3125 0 \nL 43.21875 64.59375 \nL 8.203125 64.59375 \nz\n\" id=\"DejaVuSans-55\"/>\n       </defs>\n       <use xlink:href=\"#DejaVuSans-55\"/>\n       <use x=\"63.623047\" xlink:href=\"#DejaVuSans-48\"/>\n      </g>\n     </g>\n    </g>\n   </g>\n   <g id=\"patch_9\">\n    <path d=\"M 26.925 224.64 \nL 26.925 7.2 \n\" style=\"fill:none;stroke:#000000;stroke-linecap:square;stroke-linejoin:miter;stroke-width:0.8;\"/>\n   </g>\n   <g id=\"patch_10\">\n    <path d=\"M 361.725 224.64 \nL 361.725 7.2 \n\" style=\"fill:none;stroke:#000000;stroke-linecap:square;stroke-linejoin:miter;stroke-width:0.8;\"/>\n   </g>\n   <g id=\"patch_11\">\n    <path d=\"M 26.925 224.64 \nL 361.725 224.64 \n\" style=\"fill:none;stroke:#000000;stroke-linecap:square;stroke-linejoin:miter;stroke-width:0.8;\"/>\n   </g>\n   <g id=\"patch_12\">\n    <path d=\"M 26.925 7.2 \nL 361.725 7.2 \n\" style=\"fill:none;stroke:#000000;stroke-linecap:square;stroke-linejoin:miter;stroke-width:0.8;\"/>\n   </g>\n  </g>\n </g>\n <defs>\n  <clipPath id=\"p36b52b1473\">\n   <rect height=\"217.44\" width=\"334.8\" x=\"26.925\" y=\"7.2\"/>\n  </clipPath>\n </defs>\n</svg>\n",
      "image/png": "[encoded data removed]"
     },
     "metadata": {
      "needs_background": "light"
     }
    },
    {
     "output_type": "stream",
     "name": "stdout",
     "text": [
      "Mean Accuracy: 0.910 (0.023)\n"
     ]
    }
   ],
   "source": [
    "from imblearn.over_sampling import SMOTE\n",
    "from sklearn.ensemble import RandomForestClassifier\n",
    "from sklearn.model_selection import cross_val_score\n",
    "from sklearn.model_selection import RepeatedStratifiedKFold\n",
    "from sklearn.ensemble import RandomForestClassifier\n",
    "from numpy import mean\n",
    "from numpy import std\n",
    "output = LabelEncoder().fit_transform(output)\n",
    "# transform the dataset\n",
    "oversample = SMOTE()\n",
    "finaldata,output = oversample.fit_resample(finaldata,output)\n",
    "# summarize distribution\n",
    "counter = Counter(output)\n",
    "# evaluate a model\n",
    "def evaluate_model(X, y, model):\n",
    "\t# define evaluation procedure\n",
    "\tcv = RepeatedStratifiedKFold(n_splits=5, n_repeats=3, random_state=1)\n",
    "\t# evaluate model\n",
    "\tscores = cross_val_score(model, X, y, scoring='accuracy', cv=cv, n_jobs=-1)\n",
    "\treturn scores\n",
    "for k,v in counter.items():\n",
    "\tper = v / len(y) * 100\n",
    "\tprint('Class=%d, n=%d (%.3f%%)' % (k, v, per))\n",
    "# plot the distribution\n",
    "pyplot.bar(counter.keys(), counter.values())\n",
    "pyplot.show()\n",
    "model = RandomForestClassifier(n_estimators=1000)\n",
    "# evaluate the model\n",
    "scores = evaluate_model(finaldata, output, model)\n",
    "# summarize performance\n",
    "print('Mean Accuracy: %.3f (%.3f)' % (mean(scores), std(scores)))"
   ]
  },
  {
   "cell_type": "code",
   "execution_count": 189,
   "metadata": {},
   "outputs": [
    {
     "output_type": "stream",
     "name": "stdout",
     "text": [
      "Mean Accuracy: 0.507 (0.037)\n"
     ]
    }
   ],
   "source": [
    "# RCSMOTE\n",
    "X = alldata.T.iloc[:,:len(alldata)-1]\n",
    "y = alldata.T.iloc[:,len(alldata)-1]\n",
    "\n",
    "from imblearn.over_sampling import SMOTE\n",
    "from sklearn.ensemble import RandomForestClassifier\n",
    "from sklearn.model_selection import cross_val_score\n",
    "from sklearn.model_selection import RepeatedStratifiedKFold\n",
    "from sklearn.ensemble import RandomForestClassifier\n",
    "from numpy import mean\n",
    "from numpy import std\n",
    "#y = LabelEncoder().fit_transform(y)\n",
    "# transform the dataset\n",
    "\n",
    "# summarize distribution\n",
    "counter = Counter(y)\n",
    "# evaluate a model\n",
    "def evaluate_model(X, y, model):\n",
    "\t# define evaluation procedure\n",
    "\tcv = RepeatedStratifiedKFold(n_splits=5, n_repeats=3, random_state=1)\n",
    "\t# evaluate model\n",
    "\tscores = cross_val_score(model, X, y, scoring='accuracy', cv=cv, n_jobs=-1)\n",
    "\treturn scores\n",
    "\n",
    "model = RandomForestClassifier(n_estimators=1000)\n",
    "# evaluate the model\n",
    "scores = evaluate_model(X, y, model)\n",
    "# summarize performance\n",
    "print('Mean Accuracy: %.3f (%.3f)' % (mean(scores), std(scores)))\n"
   ]
  },
  {
   "cell_type": "code",
   "execution_count": null,
   "metadata": {},
   "outputs": [],
   "source": [
    "# Borderline\n",
    "from imblearn.pipeline import Pipeline\n",
    "from imblearn.over_sampling import BorderlineSMOTE\n",
    "steps = [('border_line', BorderlineSMOTE(random_state=42,kind=\"borderline-1\")), ('model', DecisionTreeClassifier())]\n",
    "pipeline = Pipeline(steps=steps)\n",
    "# evaluate pipeline\n",
    "cv = RepeatedStratifiedKFold(n_splits=5, n_repeats=3, random_state=1)\n",
    "scores = cross_val_score(pipeline, finaldata, output, scoring='roc_auc', cv=cv, n_jobs=-1)\n",
    "print('Mean ROC AUC: %.3f' % mean(scores))"
   ]
  },
  {
   "cell_type": "code",
   "execution_count": 198,
   "metadata": {},
   "outputs": [
    {
     "output_type": "stream",
     "name": "stdout",
     "text": [
      "class 0 cou 70\nclass 1 cou 76\nclass 2 cou 17\nclass 3 cou 13\nclass 4 cou 9\nclass 5 cou 29\nMean Accuracy: 0.796 (0.066)\n"
     ]
    }
   ],
   "source": [
    "from numpy import mean\n",
    "from numpy import std\n",
    "from pandas import read_csv\n",
    "from sklearn.preprocessing import LabelEncoder\n",
    "from sklearn.model_selection import cross_val_score\n",
    "from sklearn.model_selection import RepeatedStratifiedKFold\n",
    "from sklearn.ensemble import RandomForestClassifier\n",
    " \n",
    "# load the dataset\n",
    "def load_dataset(full_path):\n",
    "\t# load the dataset as a numpy array\n",
    "\tdata = read_csv(full_path, header=None)\n",
    "\t# retrieve numpy array\n",
    "\tdata = data.values\n",
    "\t# split into input and output elements\n",
    "\tX, y = data[:, :-1], data[:, -1]\n",
    "\t# label encode the target variable to have the classes 0 and 1\n",
    "\ty = LabelEncoder().fit_transform(y)\n",
    "\treturn X, y\n",
    " \n",
    "# evaluate a model\n",
    "def evaluate_model(X, y, model):\n",
    "\t# define evaluation procedure\n",
    "\tcv = RepeatedStratifiedKFold(n_splits=5, n_repeats=3, random_state=1)\n",
    "\t# evaluate model\n",
    "\tscores = cross_val_score(model, X, y, scoring='accuracy', cv=cv, n_jobs=-1)\n",
    "\treturn scores\n",
    " \n",
    "# define the location of the dataset\n",
    "full_path = 'https://raw.githubusercontent.com/jbrownlee/Datasets/master/glass.csv'\n",
    "# load the dataset\n",
    "X, y = load_dataset(full_path)\n",
    "# define the reference model\n",
    "model = RandomForestClassifier(n_estimators=1000)\n",
    "# evaluate the model\n",
    "scores = evaluate_model(X, y, model)\n",
    "counter = Counter(y)\n",
    "for i,v in counter.items():\n",
    "    print(\"class\",i,\"cou\",v)\n",
    "# summarize performance\n",
    "print('Mean Accuracy: %.3f (%.3f)' % (mean(scores), std(scores)))"
   ]
  },
  {
   "cell_type": "code",
   "execution_count": null,
   "metadata": {},
   "outputs": [],
   "source": []
  }
 ]
}