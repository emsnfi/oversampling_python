{
 "metadata": {
  "language_info": {
   "codemirror_mode": {
    "name": "ipython",
    "version": 3
   },
   "file_extension": ".py",
   "mimetype": "text/x-python",
   "name": "python",
   "nbconvert_exporter": "python",
   "pygments_lexer": "ipython3",
   "version": 3
  },
  "orig_nbformat": 2
 },
 "nbformat": 4,
 "nbformat_minor": 2,
 "cells": [
  {
   "cell_type": "code",
   "execution_count": null,
   "metadata": {},
   "outputs": [],
   "source": [
    "# ranodom half SMOTE \n",
    "alloverSMOTE = []\n",
    "overSMOTE = []\n",
    "randomSMOTE = []\n",
    "\n",
    "for ii,i in enumerate(train):\n",
    "    randomIndex = []\n",
    "    data = pd.read_excel(i,index_col=0)\n",
    "    data.Class= data.Class.str.replace(\"\\n\", \"\").str.strip()\n",
    "    output = np.array(data.iloc[:,l]);\n",
    "    classCount = classprocess(output)\n",
    "    finaldata = np.array(data.iloc[:,:l])\n",
    "    tempover = []\n",
    "    over = SMOTE()\n",
    "    X_smote,y_smote = over.fit_resample(finaldata,output)\n",
    "    newDataCount = len(X_smote) - len(data) \n",
    "    # 把 X_smote 跟 y_smote 和在一起\n",
    "    for index,element in enumerate(X_smote):\n",
    "        temp = np.append(element,[y_smote[index]])\n",
    "        alloverSMOTE.append(temp)\n",
    "    overSMOTE.append(alloverSMOTE)\n",
    "    \n",
    "    for i in range(len(classCount)):\n",
    "        count = math.floor(int(classCount[i][1])/2); # 要產生多少數據  無條件捨去\n",
    "        randomIndex.extend([random.randint(len(data),len(X_smote)-1) for _ in range(count)]) \n",
    "        #print(\"count\",count)\n",
    "    randomtemp = []\n",
    "    #print(\"randomindex\",len(randomIndex))\n",
    "    for index in randomIndex:\n",
    "        randomtemp.append(overSMOTE[0][index])\n",
    "    randomSMOTE.append(randomtemp)\n",
    "    #print(\"actual\",len(randomSMOTE[ii]))\n",
    "    randomIndex = []\n",
    "print(randomSMOTE[3])\n",
    "\n",
    "\n"
   ]
  }
 ]
}