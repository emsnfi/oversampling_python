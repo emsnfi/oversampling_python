{
 "metadata": {
  "language_info": {
   "codemirror_mode": {
    "name": "ipython",
    "version": 3
   },
   "file_extension": ".py",
   "mimetype": "text/x-python",
   "name": "python",
   "nbconvert_exporter": "python",
   "pygments_lexer": "ipython3",
   "version": "3.7.7"
  },
  "orig_nbformat": 2,
  "kernelspec": {
   "name": "python377jvsc74a57bd0035f47e215fd5964214b6dc5985656f5ef64de389d25889fda4816acfc63ee4e",
   "display_name": "Python 3.7.7 64-bit ('venv': venv)",
   "language": "python"
  }
 },
 "nbformat": 4,
 "nbformat_minor": 2,
 "cells": [
  {
   "cell_type": "code",
   "execution_count": 86,
   "metadata": {},
   "outputs": [],
   "source": [
    "from sklearn.cluster import AffinityPropagation\n",
    "import numpy as np\n",
    "import smote_variants as sv\n",
    "import os\n",
    "import pandas as pd\n",
    "import numpy as np\n",
    "from sklearn.tree import DecisionTreeClassifier\n",
    "import statistics\n",
    "from sklearn.metrics import roc_auc_score\n",
    "from sklearn import preprocessing\n",
    "from sklearn.preprocessing import LabelEncoder\n",
    "from imblearn.over_sampling import SMOTE\n",
    "from collections import Counter\n",
    "import math\n",
    "from sklearn.cluster import KMeans  \n",
    "from sklearn import svm\n",
    "from sklearn import metrics\n"
   ]
  },
  {
   "cell_type": "code",
   "execution_count": 12,
   "metadata": {},
   "outputs": [],
   "source": [
    "path = \"/Users/emily/Desktop/Research/oversampling_python/data/\"\n",
    "folderName = 'yeast-2_vs_8-5-fold'#'abalone19-5-fold' # yeast6-5-fold'#'haberman-5-fold' #'abalone19-5-fold' # pima-5-fold yeast-2_vs_8-5-fold\n",
    "\n",
    "os.chdir(path+ folderName)\n",
    "dirs = os.listdir(path+ folderName)\n",
    "train = []\n",
    "test = []\n",
    "\n",
    "for i in dirs:\n",
    "    #print(i.split(\"-\")[-1])\n",
    "    if(\"xlsx\" in i):\n",
    "        if(\"tra\" in i):\n",
    "            train.append(i)\n",
    "\n",
    "        elif(\"tst\" in i):\n",
    "            test.append(i)\n",
    "train = sorted(train)\n",
    "test = sorted(test)"
   ]
  },
  {
   "cell_type": "code",
   "execution_count": 58,
   "metadata": {},
   "outputs": [
    {
     "output_type": "execute_result",
     "data": {
      "text/plain": [
       "      Mcg   Gvh   Alm   Mit  Erl  Pox   Vac   Nuc        Class\n",
       "1    0.51  0.40  0.56  0.17  0.5  0.5  0.49  0.22   negative\\n\n",
       "2    0.40  0.42  0.57  0.35  0.5  0.0  0.53  0.25   negative\\n\n",
       "3    0.46  0.44  0.52  0.11  0.5  0.0  0.50  0.22   negative\\n\n",
       "4    0.45  0.40  0.50  0.16  0.5  0.0  0.50  0.22   negative\\n\n",
       "5    0.43  0.44  0.48  0.22  0.5  0.0  0.51  0.22   negative\\n\n",
       "..    ...   ...   ...   ...  ...  ...   ...   ...          ...\n",
       "381  0.38  0.48  0.57  0.30  0.5  0.0  0.41  0.11   negative\\n\n",
       "382  0.60  0.61  0.54  0.11  0.5  0.0  0.46  0.22   negative\\n\n",
       "383  0.48  0.61  0.57  0.17  0.5  0.0  0.45  0.22   negative\\n\n",
       "384  0.71  0.50  0.50  0.18  0.5  0.0  0.46  0.22   negative\\n\n",
       "385  0.61  0.48  0.54  0.25  0.5  0.0  0.50  0.22   negative\\n\n",
       "\n",
       "[385 rows x 9 columns]"
      ],
      "text/html": "<div>\n<style scoped>\n    .dataframe tbody tr th:only-of-type {\n        vertical-align: middle;\n    }\n\n    .dataframe tbody tr th {\n        vertical-align: top;\n    }\n\n    .dataframe thead th {\n        text-align: right;\n    }\n</style>\n<table border=\"1\" class=\"dataframe\">\n  <thead>\n    <tr style=\"text-align: right;\">\n      <th></th>\n      <th>Mcg</th>\n      <th>Gvh</th>\n      <th>Alm</th>\n      <th>Mit</th>\n      <th>Erl</th>\n      <th>Pox</th>\n      <th>Vac</th>\n      <th>Nuc</th>\n      <th>Class</th>\n    </tr>\n  </thead>\n  <tbody>\n    <tr>\n      <th>1</th>\n      <td>0.51</td>\n      <td>0.40</td>\n      <td>0.56</td>\n      <td>0.17</td>\n      <td>0.5</td>\n      <td>0.5</td>\n      <td>0.49</td>\n      <td>0.22</td>\n      <td>negative\\n</td>\n    </tr>\n    <tr>\n      <th>2</th>\n      <td>0.40</td>\n      <td>0.42</td>\n      <td>0.57</td>\n      <td>0.35</td>\n      <td>0.5</td>\n      <td>0.0</td>\n      <td>0.53</td>\n      <td>0.25</td>\n      <td>negative\\n</td>\n    </tr>\n    <tr>\n      <th>3</th>\n      <td>0.46</td>\n      <td>0.44</td>\n      <td>0.52</td>\n      <td>0.11</td>\n      <td>0.5</td>\n      <td>0.0</td>\n      <td>0.50</td>\n      <td>0.22</td>\n      <td>negative\\n</td>\n    </tr>\n    <tr>\n      <th>4</th>\n      <td>0.45</td>\n      <td>0.40</td>\n      <td>0.50</td>\n      <td>0.16</td>\n      <td>0.5</td>\n      <td>0.0</td>\n      <td>0.50</td>\n      <td>0.22</td>\n      <td>negative\\n</td>\n    </tr>\n    <tr>\n      <th>5</th>\n      <td>0.43</td>\n      <td>0.44</td>\n      <td>0.48</td>\n      <td>0.22</td>\n      <td>0.5</td>\n      <td>0.0</td>\n      <td>0.51</td>\n      <td>0.22</td>\n      <td>negative\\n</td>\n    </tr>\n    <tr>\n      <th>...</th>\n      <td>...</td>\n      <td>...</td>\n      <td>...</td>\n      <td>...</td>\n      <td>...</td>\n      <td>...</td>\n      <td>...</td>\n      <td>...</td>\n      <td>...</td>\n    </tr>\n    <tr>\n      <th>381</th>\n      <td>0.38</td>\n      <td>0.48</td>\n      <td>0.57</td>\n      <td>0.30</td>\n      <td>0.5</td>\n      <td>0.0</td>\n      <td>0.41</td>\n      <td>0.11</td>\n      <td>negative\\n</td>\n    </tr>\n    <tr>\n      <th>382</th>\n      <td>0.60</td>\n      <td>0.61</td>\n      <td>0.54</td>\n      <td>0.11</td>\n      <td>0.5</td>\n      <td>0.0</td>\n      <td>0.46</td>\n      <td>0.22</td>\n      <td>negative\\n</td>\n    </tr>\n    <tr>\n      <th>383</th>\n      <td>0.48</td>\n      <td>0.61</td>\n      <td>0.57</td>\n      <td>0.17</td>\n      <td>0.5</td>\n      <td>0.0</td>\n      <td>0.45</td>\n      <td>0.22</td>\n      <td>negative\\n</td>\n    </tr>\n    <tr>\n      <th>384</th>\n      <td>0.71</td>\n      <td>0.50</td>\n      <td>0.50</td>\n      <td>0.18</td>\n      <td>0.5</td>\n      <td>0.0</td>\n      <td>0.46</td>\n      <td>0.22</td>\n      <td>negative\\n</td>\n    </tr>\n    <tr>\n      <th>385</th>\n      <td>0.61</td>\n      <td>0.48</td>\n      <td>0.54</td>\n      <td>0.25</td>\n      <td>0.5</td>\n      <td>0.0</td>\n      <td>0.50</td>\n      <td>0.22</td>\n      <td>negative\\n</td>\n    </tr>\n  </tbody>\n</table>\n<p>385 rows × 9 columns</p>\n</div>"
     },
     "metadata": {},
     "execution_count": 58
    }
   ],
   "source": [
    "data"
   ]
  },
  {
   "cell_type": "code",
   "execution_count": 106,
   "metadata": {},
   "outputs": [],
   "source": [
    "# 資料分成 X,y 的部分\n",
    "data = pd.read_excel(train[0],index_col=0)\n",
    "datanp = np.array(data)\n",
    "X = data.iloc[:,:data.shape[1]-1]\n",
    "X.reset_index(inplace=True)\n",
    "y = data.iloc[:,data.shape[1]-1]\n",
    "le = preprocessing.LabelEncoder()\n",
    "y = le.fit_transform(y)\n",
    "labels_true = y\n",
    "y = pd.DataFrame(y)\n",
    "allData= pd.concat([X,y],axis=1,join='inner')\n",
    "allData = allData.drop(['index'], axis=1)\n",
    "allData\n",
    "allData = np.array(allData)"
   ]
  },
  {
   "cell_type": "code",
   "execution_count": 107,
   "metadata": {},
   "outputs": [
    {
     "output_type": "execute_result",
     "data": {
      "text/plain": [
       "(385,)"
      ]
     },
     "metadata": {},
     "execution_count": 107
    }
   ],
   "source": [
    "labels_true.shape"
   ]
  },
  {
   "cell_type": "code",
   "execution_count": 112,
   "metadata": {},
   "outputs": [
    {
     "output_type": "stream",
     "name": "stderr",
     "text": [
      "/Users/emily/Desktop/Research/oversampling_python/venv/lib/python3.7/site-packages/sklearn/cluster/_affinity_propagation.py:154: FutureWarning: 'random_state' has been introduced in 0.23. It will be set to None starting from 1.0 (renaming of 0.25) which means that results will differ at every function call. Set 'random_state' to None to silence this warning, or to 0 to keep the behavior of versions <0.23.\n  FutureWarning\n"
     ]
    }
   ],
   "source": [
    "from sklearn.cluster import AffinityPropagation\n",
    "import numpy as np\n",
    "clustering = AffinityPropagation(convergence_iter=2).fit(allData)"
   ]
  },
  {
   "cell_type": "code",
   "execution_count": 113,
   "metadata": {},
   "outputs": [
    {
     "output_type": "execute_result",
     "data": {
      "text/plain": [
       "38"
      ]
     },
     "metadata": {},
     "execution_count": 113
    }
   ],
   "source": [
    "len(clustering.cluster_centers_)"
   ]
  },
  {
   "cell_type": "code",
   "execution_count": null,
   "metadata": {},
   "outputs": [],
   "source": []
  },
  {
   "cell_type": "code",
   "execution_count": 119,
   "metadata": {},
   "outputs": [
    {
     "output_type": "stream",
     "name": "stdout",
     "text": [
      "Estimated number of clusters: 8\n",
      "Homogeneity: 1.000\n",
      "Completeness: 0.110\n",
      "V-measure: 0.198\n",
      "Adjusted Rand Index: 0.055\n",
      "Adjusted Mutual Information: 0.190\n",
      "Silhouette Coefficient: -0.531\n",
      "/Users/emily/Desktop/Research/oversampling_python/venv/lib/python3.7/site-packages/sklearn/cluster/_affinity_propagation.py:154: FutureWarning: 'random_state' has been introduced in 0.23. It will be set to None starting from 1.0 (renaming of 0.25) which means that results will differ at every function call. Set 'random_state' to None to silence this warning, or to 0 to keep the behavior of versions <0.23.\n",
      "  FutureWarning\n"
     ]
    }
   ],
   "source": [
    "af = AffinityPropagation(preference=-1).fit(allData) # preference=-1 convergence_iter=2\n",
    "cluster_centers_indices = af.cluster_centers_indices_\n",
    "labels = af.labels_\n",
    "n_clusters_ = len(cluster_centers_indices)\n",
    "print('Estimated number of clusters: %d' % n_clusters_)\n",
    "print(\"Homogeneity: %0.3f\" % metrics.homogeneity_score(labels_true, labels))\n",
    "print(\"Completeness: %0.3f\" % metrics.completeness_score(labels_true, labels))\n",
    "print(\"V-measure: %0.3f\" % metrics.v_measure_score(labels_true, labels))\n",
    "print(\"Adjusted Rand Index: %0.3f\"\n",
    "      % metrics.adjusted_rand_score(labels_true, labels))\n",
    "print(\"Adjusted Mutual Information: %0.3f\"\n",
    "      % metrics.adjusted_mutual_info_score(labels_true, labels))\n",
    "print(\"Silhouette Coefficient: %0.3f\"\n",
    "      % metrics.silhouette_score(X, labels, metric='sqeuclidean'))\n"
   ]
  },
  {
   "cell_type": "code",
   "execution_count": 105,
   "metadata": {},
   "outputs": [
    {
     "output_type": "execute_result",
     "data": {
      "text/plain": [
       "(385, 1)"
      ]
     },
     "metadata": {},
     "execution_count": 105
    }
   ],
   "source": []
  },
  {
   "cell_type": "code",
   "execution_count": null,
   "metadata": {},
   "outputs": [],
   "source": []
  }
 ]
}